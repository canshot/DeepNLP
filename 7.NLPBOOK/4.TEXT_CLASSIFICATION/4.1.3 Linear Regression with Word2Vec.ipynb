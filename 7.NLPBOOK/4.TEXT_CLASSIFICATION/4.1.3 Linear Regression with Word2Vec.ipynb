{
 "cells": [
  {
   "cell_type": "markdown",
   "metadata": {},
   "source": [
    "## 4.1.3 Linear Regression Example with Word2Vec"
   ]
  },
  {
   "cell_type": "markdown",
   "metadata": {},
   "source": [
    "### Word2Vec Feature Example"
   ]
  },
  {
   "cell_type": "code",
   "execution_count": 8,
   "metadata": {},
   "outputs": [],
   "source": [
    "import os\n",
    "import re\n",
    "\n",
    "import pandas as pd\n",
    "import numpy as np\n",
    "\n",
    "from bs4 import BeautifulSoup\n",
    "from nltk.corpus import stopwords\n",
    "from nltk.tokenize import word_tokenize\n",
    "\n",
    "from tqdm import tqdm #TODO2: 관련 라이브러리 사용에 대해, 이전 코드에 사용되지 않는 라이브러리 활용 된 것 같습니다. 전처리 및 등등"
   ]
  },
  {
   "cell_type": "code",
   "execution_count": 2,
   "metadata": {},
   "outputs": [],
   "source": [
    "DATA_OUT_PATH = './data_out/'\n",
    "DEFAULT_PATH = '~/.kaggle/competitions/word2vec-nlp-tutorial/' #TODO1: 디렉토리 위치 변경"
   ]
  },
  {
   "cell_type": "code",
   "execution_count": 3,
   "metadata": {},
   "outputs": [],
   "source": [
    "train = pd.read_csv(DEFAULT_PATH + 'labeledTrainData.tsv', header=0, delimiter='\\t', quoting=3)"
   ]
  },
  {
   "cell_type": "code",
   "execution_count": 4,
   "metadata": {},
   "outputs": [],
   "source": [
    "def preprocess(review): \n",
    "    html_filtered_review = BeautifulSoup(review, \"html5lib\").get_text()\n",
    "    non_alphabet_filtered_review = re.sub(\"[^a-zA-Z]\", \" \", html_filtered_review)\n",
    "    lowered_review = non_alphabet_filtered_review.lower()\n",
    "    processed_words = lowered_review.split()\n",
    "    stops = set(stopwords.words(\"english\"))\n",
    "    processed_words_to_stopwords = [w for w in processed_words if not w in stops]\n",
    "    clean_review = ' '.join(processed_words_to_stopwords)\n",
    "\n",
    "    return clean_review"
   ]
  },
  {
   "cell_type": "code",
   "execution_count": 5,
   "metadata": {},
   "outputs": [
    {
     "name": "stderr",
     "output_type": "stream",
     "text": [
      "100%|██████████| 25000/25000 [00:34<00:00, 734.18it/s]\n"
     ]
    }
   ],
   "source": [
    "clean_train_reviews = []\n",
    "for review in tqdm(train['review']):\n",
    "    clean_train_reviews.append(preprocess(review))"
   ]
  },
  {
   "cell_type": "code",
   "execution_count": 9,
   "metadata": {},
   "outputs": [
    {
     "data": {
      "text/plain": [
       "25000"
      ]
     },
     "execution_count": 9,
     "metadata": {},
     "output_type": "execute_result"
    }
   ],
   "source": [
    "len(clean_train_reviews)"
   ]
  },
  {
   "cell_type": "code",
   "execution_count": 14,
   "metadata": {},
   "outputs": [],
   "source": [
    "sentences = list()\n",
    "for r in clean_train_reviews:\n",
    "    sentences.append(r.split())"
   ]
  },
  {
   "cell_type": "code",
   "execution_count": 15,
   "metadata": {},
   "outputs": [],
   "source": [
    "num_features = 300    \n",
    "min_word_count = 40   \n",
    "num_workers = 4       \n",
    "context = 10          \n",
    "downsampling = 1e-3 "
   ]
  },
  {
   "cell_type": "code",
   "execution_count": 16,
   "metadata": {},
   "outputs": [],
   "source": [
    "import logging\n",
    "logging.basicConfig(format='%(asctime)s : %(levelname)s : %(message)s',\\\n",
    "   level=logging.INFO)"
   ]
  },
  {
   "cell_type": "code",
   "execution_count": 17,
   "metadata": {},
   "outputs": [
    {
     "name": "stderr",
     "output_type": "stream",
     "text": [
      "2018-11-18 17:37:15,082 : INFO : 'pattern' package not found; tag filters are not available for English\n",
      "2018-11-18 17:37:15,087 : INFO : collecting all words and their counts\n",
      "2018-11-18 17:37:15,088 : INFO : PROGRESS: at sentence #0, processed 0 words, keeping 0 word types\n",
      "2018-11-18 17:37:15,386 : INFO : PROGRESS: at sentence #10000, processed 1205223 words, keeping 51374 word types\n",
      "2018-11-18 17:37:15,678 : INFO : PROGRESS: at sentence #20000, processed 2396605 words, keeping 67660 word types\n",
      "2018-11-18 17:37:15,827 : INFO : collected 74065 word types from a corpus of 2988089 raw words and 25000 sentences\n",
      "2018-11-18 17:37:15,827 : INFO : Loading a fresh vocabulary\n",
      "2018-11-18 17:37:15,992 : INFO : effective_min_count=40 retains 8160 unique words (11% of original 74065, drops 65905)\n",
      "2018-11-18 17:37:15,993 : INFO : effective_min_count=40 leaves 2627273 word corpus (87% of original 2988089, drops 360816)\n",
      "2018-11-18 17:37:16,019 : INFO : deleting the raw counts dictionary of 74065 items\n",
      "2018-11-18 17:37:16,023 : INFO : sample=0.001 downsamples 30 most-common words\n",
      "2018-11-18 17:37:16,024 : INFO : downsampling leaves estimated 2494384 word corpus (94.9% of prior 2627273)\n",
      "2018-11-18 17:37:16,050 : INFO : estimated required memory for 8160 words and 300 dimensions: 23664000 bytes\n",
      "2018-11-18 17:37:16,051 : INFO : resetting layer weights\n",
      "2018-11-18 17:37:16,193 : INFO : training model with 4 workers on 8160 vocabulary and 300 features, using sg=0 hs=0 sample=0.001 negative=5 window=10\n",
      "2018-11-18 17:37:17,210 : INFO : EPOCH 1 - PROGRESS: at 39.85% examples, 988857 words/s, in_qsize 7, out_qsize 0\n",
      "2018-11-18 17:37:18,215 : INFO : EPOCH 1 - PROGRESS: at 82.67% examples, 1026262 words/s, in_qsize 7, out_qsize 0\n",
      "2018-11-18 17:37:18,668 : INFO : worker thread finished; awaiting finish of 3 more threads\n",
      "2018-11-18 17:37:18,669 : INFO : worker thread finished; awaiting finish of 2 more threads\n",
      "2018-11-18 17:37:18,673 : INFO : worker thread finished; awaiting finish of 1 more threads\n",
      "2018-11-18 17:37:18,678 : INFO : worker thread finished; awaiting finish of 0 more threads\n",
      "2018-11-18 17:37:18,679 : INFO : EPOCH - 1 : training on 2988089 raw words (2494389 effective words) took 2.5s, 1005421 effective words/s\n",
      "2018-11-18 17:37:19,684 : INFO : EPOCH 2 - PROGRESS: at 37.39% examples, 942055 words/s, in_qsize 7, out_qsize 0\n",
      "2018-11-18 17:37:20,684 : INFO : EPOCH 2 - PROGRESS: at 81.75% examples, 1022114 words/s, in_qsize 7, out_qsize 0\n",
      "2018-11-18 17:37:21,067 : INFO : worker thread finished; awaiting finish of 3 more threads\n",
      "2018-11-18 17:37:21,074 : INFO : worker thread finished; awaiting finish of 2 more threads\n",
      "2018-11-18 17:37:21,079 : INFO : worker thread finished; awaiting finish of 1 more threads\n",
      "2018-11-18 17:37:21,089 : INFO : worker thread finished; awaiting finish of 0 more threads\n",
      "2018-11-18 17:37:21,090 : INFO : EPOCH - 2 : training on 2988089 raw words (2494274 effective words) took 2.4s, 1036599 effective words/s\n",
      "2018-11-18 17:37:22,101 : INFO : EPOCH 3 - PROGRESS: at 37.76% examples, 943883 words/s, in_qsize 7, out_qsize 0\n",
      "2018-11-18 17:37:23,102 : INFO : EPOCH 3 - PROGRESS: at 74.94% examples, 935690 words/s, in_qsize 7, out_qsize 0\n",
      "2018-11-18 17:37:23,637 : INFO : worker thread finished; awaiting finish of 3 more threads\n",
      "2018-11-18 17:37:23,641 : INFO : worker thread finished; awaiting finish of 2 more threads\n",
      "2018-11-18 17:37:23,645 : INFO : worker thread finished; awaiting finish of 1 more threads\n",
      "2018-11-18 17:37:23,659 : INFO : worker thread finished; awaiting finish of 0 more threads\n",
      "2018-11-18 17:37:23,660 : INFO : EPOCH - 3 : training on 2988089 raw words (2494329 effective words) took 2.6s, 972103 effective words/s\n",
      "2018-11-18 17:37:24,664 : INFO : EPOCH 4 - PROGRESS: at 39.47% examples, 992148 words/s, in_qsize 7, out_qsize 0\n",
      "2018-11-18 17:37:25,667 : INFO : EPOCH 4 - PROGRESS: at 77.05% examples, 963081 words/s, in_qsize 7, out_qsize 0\n",
      "2018-11-18 17:37:26,236 : INFO : worker thread finished; awaiting finish of 3 more threads\n",
      "2018-11-18 17:37:26,242 : INFO : worker thread finished; awaiting finish of 2 more threads\n",
      "2018-11-18 17:37:26,244 : INFO : worker thread finished; awaiting finish of 1 more threads\n",
      "2018-11-18 17:37:26,253 : INFO : worker thread finished; awaiting finish of 0 more threads\n",
      "2018-11-18 17:37:26,254 : INFO : EPOCH - 4 : training on 2988089 raw words (2493682 effective words) took 2.6s, 962675 effective words/s\n",
      "2018-11-18 17:37:27,262 : INFO : EPOCH 5 - PROGRESS: at 39.85% examples, 1000246 words/s, in_qsize 7, out_qsize 0\n",
      "2018-11-18 17:37:28,269 : INFO : EPOCH 5 - PROGRESS: at 77.34% examples, 965361 words/s, in_qsize 7, out_qsize 0\n",
      "2018-11-18 17:37:28,889 : INFO : worker thread finished; awaiting finish of 3 more threads\n",
      "2018-11-18 17:37:28,897 : INFO : worker thread finished; awaiting finish of 2 more threads\n",
      "2018-11-18 17:37:28,906 : INFO : worker thread finished; awaiting finish of 1 more threads\n",
      "2018-11-18 17:37:28,915 : INFO : worker thread finished; awaiting finish of 0 more threads\n",
      "2018-11-18 17:37:28,916 : INFO : EPOCH - 5 : training on 2988089 raw words (2494308 effective words) took 2.7s, 939557 effective words/s\n",
      "2018-11-18 17:37:28,917 : INFO : training on a 14940445 raw words (12470982 effective words) took 12.7s, 980165 effective words/s\n"
     ]
    }
   ],
   "source": [
    "from gensim.models import word2vec\n",
    "\n",
    "model = word2vec.Word2Vec(sentences, workers=num_workers, \\\n",
    "           size=num_features, min_count = min_word_count, \\\n",
    "            window = context, sample = downsampling)"
   ]
  },
  {
   "cell_type": "code",
   "execution_count": 18,
   "metadata": {},
   "outputs": [],
   "source": [
    "def get_features(words, model, num_features):\n",
    "    feature_vector = np.zeros((num_features),dtype=np.float32)\n",
    "\n",
    "    num_words = 0\n",
    "    index2word_set = set(model.wv.index2word)\n",
    "\n",
    "    for w in words:\n",
    "        if w in index2word_set:\n",
    "            num_words += 1\n",
    "            feature_vector = np.add(feature_vector, model[w])\n",
    "\n",
    "    feature_vector = np.divide(feature_vector, num_words)\n",
    "    return feature_vector"
   ]
  },
  {
   "cell_type": "code",
   "execution_count": 19,
   "metadata": {},
   "outputs": [],
   "source": [
    "def get_dataset(reviews, model, num_features):\n",
    "    dataset = list()\n",
    "\n",
    "    for s in tqdm(reviews):\n",
    "        dataset.append(get_features(s, model, num_features))\n",
    "\n",
    "    reviewFeatureVecs = np.stack(dataset)\n",
    "    \n",
    "    return reviewFeatureVecs"
   ]
  },
  {
   "cell_type": "code",
   "execution_count": 20,
   "metadata": {},
   "outputs": [
    {
     "name": "stderr",
     "output_type": "stream",
     "text": [
      "  0%|          | 0/25000 [00:00<?, ?it/s]/Users/user/tf110/lib/python3.6/site-packages/ipykernel_launcher.py:10: DeprecationWarning: Call to deprecated `__getitem__` (Method will be removed in 4.0.0, use self.wv.__getitem__() instead).\n",
      "  # Remove the CWD from sys.path while we load stuff.\n",
      "100%|██████████| 25000/25000 [00:36<00:00, 687.70it/s]\n"
     ]
    }
   ],
   "source": [
    "trainDataVecs = get_dataset(sentences, model, num_features)"
   ]
  },
  {
   "cell_type": "code",
   "execution_count": 21,
   "metadata": {},
   "outputs": [],
   "source": [
    "from sklearn.model_selection import train_test_split\n",
    "import numpy as np\n",
    "\n",
    "sentiments = list(train['sentiment'])\n",
    "X = trainDataVecs\n",
    "y = np.array(sentiments)\n",
    "\n",
    "X_train, X_test, y_train, y_test = train_test_split(X, y, test_size=0.2, random_state=42)"
   ]
  },
  {
   "cell_type": "code",
   "execution_count": 22,
   "metadata": {},
   "outputs": [
    {
     "data": {
      "text/plain": [
       "LogisticRegression(C=1.0, class_weight='balanced', dual=False,\n",
       "          fit_intercept=True, intercept_scaling=1, max_iter=100,\n",
       "          multi_class='ovr', n_jobs=1, penalty='l2', random_state=None,\n",
       "          solver='liblinear', tol=0.0001, verbose=0, warm_start=False)"
      ]
     },
     "execution_count": 22,
     "metadata": {},
     "output_type": "execute_result"
    }
   ],
   "source": [
    "from sklearn.linear_model import LogisticRegression\n",
    "\n",
    "lgs = LogisticRegression(class_weight='balanced')\n",
    "lgs.fit(X_train, y_train)"
   ]
  },
  {
   "cell_type": "code",
   "execution_count": 23,
   "metadata": {},
   "outputs": [
    {
     "name": "stdout",
     "output_type": "stream",
     "text": [
      "------------\n",
      "Accuracy: 0.862400\n",
      "Precision: 0.858037\n",
      "Recall: 0.870981\n",
      "F1-Score: 0.864460\n",
      "AUC: 0.933789\n"
     ]
    }
   ],
   "source": [
    "predicted = lgs.predict(X_test)\n",
    "from sklearn import metrics\n",
    "\n",
    "fpr, tpr, _ = metrics.roc_curve(y_test, (lgs.predict_proba(X_test)[:, 1]))\n",
    "auc = metrics.auc(fpr, tpr)\n",
    "\n",
    "print(\"------------\")\n",
    "print(\"Accuracy: %f\" % lgs.score(X_test, y_test))  #checking the accuracy\n",
    "print(\"Precision: %f\" % metrics.precision_score(y_test, predicted))\n",
    "print(\"Recall: %f\" % metrics.recall_score(y_test, predicted))\n",
    "print(\"F1-Score: %f\" % metrics.f1_score(y_test, predicted))\n",
    "print(\"AUC: %f\" % auc)"
   ]
  },
  {
   "cell_type": "code",
   "execution_count": 24,
   "metadata": {},
   "outputs": [],
   "source": [
    "test = pd.read_csv(DEFAULT_PATH + 'testData.tsv', header=0, delimiter='\\t', quoting=3)"
   ]
  },
  {
   "cell_type": "code",
   "execution_count": 25,
   "metadata": {},
   "outputs": [
    {
     "data": {
      "text/html": [
       "<div>\n",
       "<style scoped>\n",
       "    .dataframe tbody tr th:only-of-type {\n",
       "        vertical-align: middle;\n",
       "    }\n",
       "\n",
       "    .dataframe tbody tr th {\n",
       "        vertical-align: top;\n",
       "    }\n",
       "\n",
       "    .dataframe thead th {\n",
       "        text-align: right;\n",
       "    }\n",
       "</style>\n",
       "<table border=\"1\" class=\"dataframe\">\n",
       "  <thead>\n",
       "    <tr style=\"text-align: right;\">\n",
       "      <th></th>\n",
       "      <th>id</th>\n",
       "      <th>review</th>\n",
       "    </tr>\n",
       "  </thead>\n",
       "  <tbody>\n",
       "    <tr>\n",
       "      <th>0</th>\n",
       "      <td>\"12311_10\"</td>\n",
       "      <td>\"Naturally in a film who's main themes are of ...</td>\n",
       "    </tr>\n",
       "    <tr>\n",
       "      <th>1</th>\n",
       "      <td>\"8348_2\"</td>\n",
       "      <td>\"This movie is a disaster within a disaster fi...</td>\n",
       "    </tr>\n",
       "    <tr>\n",
       "      <th>2</th>\n",
       "      <td>\"5828_4\"</td>\n",
       "      <td>\"All in all, this is a movie for kids. We saw ...</td>\n",
       "    </tr>\n",
       "    <tr>\n",
       "      <th>3</th>\n",
       "      <td>\"7186_2\"</td>\n",
       "      <td>\"Afraid of the Dark left me with the impressio...</td>\n",
       "    </tr>\n",
       "    <tr>\n",
       "      <th>4</th>\n",
       "      <td>\"12128_7\"</td>\n",
       "      <td>\"A very accurate depiction of small time mob l...</td>\n",
       "    </tr>\n",
       "  </tbody>\n",
       "</table>\n",
       "</div>"
      ],
      "text/plain": [
       "           id                                             review\n",
       "0  \"12311_10\"  \"Naturally in a film who's main themes are of ...\n",
       "1    \"8348_2\"  \"This movie is a disaster within a disaster fi...\n",
       "2    \"5828_4\"  \"All in all, this is a movie for kids. We saw ...\n",
       "3    \"7186_2\"  \"Afraid of the Dark left me with the impressio...\n",
       "4   \"12128_7\"  \"A very accurate depiction of small time mob l..."
      ]
     },
     "execution_count": 25,
     "metadata": {},
     "output_type": "execute_result"
    }
   ],
   "source": [
    "test.head(5)"
   ]
  },
  {
   "cell_type": "code",
   "execution_count": 26,
   "metadata": {},
   "outputs": [
    {
     "name": "stderr",
     "output_type": "stream",
     "text": [
      "100%|██████████| 25000/25000 [00:34<00:00, 727.32it/s]\n"
     ]
    }
   ],
   "source": [
    "clean_test_reviews = []\n",
    "for review in tqdm(test['review']):\n",
    "    clean_test_reviews.append(preprocess(review))"
   ]
  },
  {
   "cell_type": "code",
   "execution_count": 27,
   "metadata": {},
   "outputs": [],
   "source": [
    "test_sentences = list()\n",
    "for r in clean_test_reviews:\n",
    "    test_sentences.append(r.split())"
   ]
  },
  {
   "cell_type": "code",
   "execution_count": null,
   "metadata": {},
   "outputs": [
    {
     "name": "stderr",
     "output_type": "stream",
     "text": [
      "  0%|          | 0/25000 [00:00<?, ?it/s]/Users/user/tf110/lib/python3.6/site-packages/ipykernel_launcher.py:10: DeprecationWarning: Call to deprecated `__getitem__` (Method will be removed in 4.0.0, use self.wv.__getitem__() instead).\n",
      "  # Remove the CWD from sys.path while we load stuff.\n",
      " 65%|██████▍   | 16202/25000 [00:22<00:11, 733.71it/s]"
     ]
    }
   ],
   "source": [
    "testDataVecs = get_dataset(test_sentences, model, num_features)"
   ]
  },
  {
   "cell_type": "code",
   "execution_count": null,
   "metadata": {},
   "outputs": [],
   "source": [
    "test_predicted = lgs.predict(testDataVecs)"
   ]
  },
  {
   "cell_type": "code",
   "execution_count": null,
   "metadata": {},
   "outputs": [],
   "source": [
    "answer_dataset = pd.DataFrame({'id': test['id'], 'sentiment': test_predicted})"
   ]
  },
  {
   "cell_type": "code",
   "execution_count": null,
   "metadata": {},
   "outputs": [],
   "source": [
    "if not os.path.exists(DATA_OUT_PATH):\n",
    "    os.makedirs(DATA_OUT_PATH)\n",
    "\n",
    "answer_dataset.to_csv(DATA_OUT_PATH + 'lgs_w2v_answer.csv', index=False, quoting=3)"
   ]
  },
  {
   "cell_type": "code",
   "execution_count": null,
   "metadata": {},
   "outputs": [],
   "source": []
  }
 ],
 "metadata": {
  "kernelspec": {
   "display_name": "Python 3",
   "language": "python",
   "name": "python3"
  },
  "language_info": {
   "codemirror_mode": {
    "name": "ipython",
    "version": 3
   },
   "file_extension": ".py",
   "mimetype": "text/x-python",
   "name": "python",
   "nbconvert_exporter": "python",
   "pygments_lexer": "ipython3",
   "version": "3.6.5"
  }
 },
 "nbformat": 4,
 "nbformat_minor": 2
}
