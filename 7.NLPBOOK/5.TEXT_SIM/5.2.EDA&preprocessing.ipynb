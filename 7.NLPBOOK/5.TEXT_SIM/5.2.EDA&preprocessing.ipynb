{
 "cells": [
  {
   "cell_type": "markdown",
   "metadata": {},
   "source": [
    "## 5.2 데이터 분석 및 전처리\n",
    "\n",
    "### 데이터 불러오기 및 분석하기\n",
    "5장에서 사용할 데이터인 쿼라 데이터를 불러온 후 탐색적 데이터 분석 과정을 진행한다.  "
   ]
  },
  {
   "cell_type": "code",
   "execution_count": 46,
   "metadata": {},
   "outputs": [],
   "source": [
    "import zipfile"
   ]
  },
  {
   "cell_type": "code",
   "execution_count": 47,
   "metadata": {},
   "outputs": [],
   "source": [
    "DATA_IN_PATH = './data_in/'"
   ]
  },
  {
   "cell_type": "code",
   "execution_count": 48,
   "metadata": {},
   "outputs": [],
   "source": [
    "file_list = ['train.csv.zip', 'test.csv.zip', 'sample_submission.csv.zip']\n",
    "\n",
    "for file in file_list:\n",
    "    zipRef = zipfile.ZipFile(DATA_IN_PATH + file, 'r')\n",
    "    zipRef.extractall(DATA_IN_PATH)\n",
    "    zipRef.close()"
   ]
  },
  {
   "cell_type": "code",
   "execution_count": 49,
   "metadata": {},
   "outputs": [],
   "source": [
    "import numpy as np \n",
    "import pandas as pd\n",
    "import os\n",
    "import matplotlib.pyplot as plt\n",
    "import seaborn as sns\n",
    "%matplotlib inline"
   ]
  },
  {
   "cell_type": "code",
   "execution_count": 50,
   "metadata": {},
   "outputs": [
    {
     "data": {
      "text/html": [
       "<div>\n",
       "<style scoped>\n",
       "    .dataframe tbody tr th:only-of-type {\n",
       "        vertical-align: middle;\n",
       "    }\n",
       "\n",
       "    .dataframe tbody tr th {\n",
       "        vertical-align: top;\n",
       "    }\n",
       "\n",
       "    .dataframe thead th {\n",
       "        text-align: right;\n",
       "    }\n",
       "</style>\n",
       "<table border=\"1\" class=\"dataframe\">\n",
       "  <thead>\n",
       "    <tr style=\"text-align: right;\">\n",
       "      <th></th>\n",
       "      <th>id</th>\n",
       "      <th>qid1</th>\n",
       "      <th>qid2</th>\n",
       "      <th>question1</th>\n",
       "      <th>question2</th>\n",
       "      <th>is_duplicate</th>\n",
       "    </tr>\n",
       "  </thead>\n",
       "  <tbody>\n",
       "    <tr>\n",
       "      <th>0</th>\n",
       "      <td>0</td>\n",
       "      <td>1</td>\n",
       "      <td>2</td>\n",
       "      <td>What is the step by step guide to invest in sh...</td>\n",
       "      <td>What is the step by step guide to invest in sh...</td>\n",
       "      <td>0</td>\n",
       "    </tr>\n",
       "    <tr>\n",
       "      <th>1</th>\n",
       "      <td>1</td>\n",
       "      <td>3</td>\n",
       "      <td>4</td>\n",
       "      <td>What is the story of Kohinoor (Koh-i-Noor) Dia...</td>\n",
       "      <td>What would happen if the Indian government sto...</td>\n",
       "      <td>0</td>\n",
       "    </tr>\n",
       "    <tr>\n",
       "      <th>2</th>\n",
       "      <td>2</td>\n",
       "      <td>5</td>\n",
       "      <td>6</td>\n",
       "      <td>How can I increase the speed of my internet co...</td>\n",
       "      <td>How can Internet speed be increased by hacking...</td>\n",
       "      <td>0</td>\n",
       "    </tr>\n",
       "    <tr>\n",
       "      <th>3</th>\n",
       "      <td>3</td>\n",
       "      <td>7</td>\n",
       "      <td>8</td>\n",
       "      <td>Why am I mentally very lonely? How can I solve...</td>\n",
       "      <td>Find the remainder when [math]23^{24}[/math] i...</td>\n",
       "      <td>0</td>\n",
       "    </tr>\n",
       "    <tr>\n",
       "      <th>4</th>\n",
       "      <td>4</td>\n",
       "      <td>9</td>\n",
       "      <td>10</td>\n",
       "      <td>Which one dissolve in water quikly sugar, salt...</td>\n",
       "      <td>Which fish would survive in salt water?</td>\n",
       "      <td>0</td>\n",
       "    </tr>\n",
       "  </tbody>\n",
       "</table>\n",
       "</div>"
      ],
      "text/plain": [
       "   id  qid1  qid2                                          question1  \\\n",
       "0   0     1     2  What is the step by step guide to invest in sh...   \n",
       "1   1     3     4  What is the story of Kohinoor (Koh-i-Noor) Dia...   \n",
       "2   2     5     6  How can I increase the speed of my internet co...   \n",
       "3   3     7     8  Why am I mentally very lonely? How can I solve...   \n",
       "4   4     9    10  Which one dissolve in water quikly sugar, salt...   \n",
       "\n",
       "                                           question2  is_duplicate  \n",
       "0  What is the step by step guide to invest in sh...             0  \n",
       "1  What would happen if the Indian government sto...             0  \n",
       "2  How can Internet speed be increased by hacking...             0  \n",
       "3  Find the remainder when [math]23^{24}[/math] i...             0  \n",
       "4            Which fish would survive in salt water?             0  "
      ]
     },
     "execution_count": 50,
     "metadata": {},
     "output_type": "execute_result"
    }
   ],
   "source": [
    "train_data = pd.read_csv(DATA_IN_PATH + 'train.csv')\n",
    "train_data.head()"
   ]
  },
  {
   "cell_type": "code",
   "execution_count": 51,
   "metadata": {},
   "outputs": [
    {
     "name": "stdout",
     "output_type": "stream",
     "text": [
      "파일 크기 : \n",
      "test.csv                      314.02MB\n",
      "train.csv                     63.4MB\n",
      "sample_submission.csv         22.35MB\n"
     ]
    }
   ],
   "source": [
    "print(\"파일 크기 : \")\n",
    "for file in os.listdir(DATA_IN_PATH):\n",
    "    if 'csv' in file and 'zip' not in file:\n",
    "        print(file.ljust(30) + str(round(os.path.getsize(DATA_IN_PATH + file) / 1000000, 2)) + 'MB')"
   ]
  },
  {
   "cell_type": "code",
   "execution_count": 52,
   "metadata": {},
   "outputs": [
    {
     "name": "stdout",
     "output_type": "stream",
     "text": [
      "전체 학습데이터의 개수: 404290\n"
     ]
    }
   ],
   "source": [
    "print('전체 학습데이터의 개수: {}'.format(len(train_data)))"
   ]
  },
  {
   "cell_type": "code",
   "execution_count": 53,
   "metadata": {},
   "outputs": [
    {
     "data": {
      "text/plain": [
       "0    What is the step by step guide to invest in sh...\n",
       "1    What is the story of Kohinoor (Koh-i-Noor) Dia...\n",
       "2    How can I increase the speed of my internet co...\n",
       "3    Why am I mentally very lonely? How can I solve...\n",
       "4    Which one dissolve in water quikly sugar, salt...\n",
       "dtype: object"
      ]
     },
     "execution_count": 53,
     "metadata": {},
     "output_type": "execute_result"
    }
   ],
   "source": [
    "train_set = pd.Series(train_data['question1'].tolist() + train_data['question2'].tolist()).astype(str)\n",
    "train_set.head()"
   ]
  },
  {
   "cell_type": "code",
   "execution_count": 54,
   "metadata": {},
   "outputs": [
    {
     "name": "stdout",
     "output_type": "stream",
     "text": [
      "교육 데이터의 총 질문 수: 537361\n",
      "반복해서 나타나는 질문의 수: 111873\n"
     ]
    }
   ],
   "source": [
    "print('교육 데이터의 총 질문 수: {}'.format(len(np.unique(train_set))))\n",
    "print('반복해서 나타나는 질문의 수: {}'.format(np.sum(train_set.value_counts() > 1)))"
   ]
  },
  {
   "cell_type": "code",
   "execution_count": 55,
   "metadata": {},
   "outputs": [
    {
     "data": {
      "text/plain": [
       "Text(0, 0.5, 'Number of questions')"
      ]
     },
     "execution_count": 55,
     "metadata": {},
     "output_type": "execute_result"
    },
    {
     "data": {
      "image/png": "[encoded data removed]",
      "text/plain": [
       "<Figure size 864x360 with 1 Axes>"
      ]
     },
     "metadata": {
      "needs_background": "light"
     },
     "output_type": "display_data"
    }
   ],
   "source": [
    "# 그래프에 대한 이미지 사이즈 선언\n",
    "# figsize: (가로, 세로) 형태의 튜플로 입력\n",
    "plt.figure(figsize=(12, 5))\n",
    "# 히스토그램 선언\n",
    "# bins: 히스토그램 값들에 대한 버켓 범위\n",
    "# range: x축 값의 범위\n",
    "# alpha: 그래프 색상 투명도\n",
    "# color: 그래프 색상\n",
    "# label: 그래프에 대한 라벨\n",
    "plt.hist(train_set.value_counts(), bins=50, alpha=0.5, color= 'r', label='word')\n",
    "plt.yscale('log', nonposy='clip')\n",
    "# 그래프 제목\n",
    "plt.title('Log-Histogram of question appearance counts')\n",
    "# 그래프 x 축 라벨\n",
    "plt.xlabel('Number of occurrences of question')\n",
    "# 그래프 y 축 라벨\n",
    "plt.ylabel('Number of questions')"
   ]
  },
  {
   "cell_type": "code",
   "execution_count": 56,
   "metadata": {},
   "outputs": [
    {
     "name": "stdout",
     "output_type": "stream",
     "text": [
      "중복 최대 개수: 161\n",
      "중복 최소 개수: 1\n",
      "중복 평균 개수: 1.50\n",
      "중복 표준편차: 1.91\n",
      "중복 중간길이: 1.0\n",
      "제 1 사분위 중복: 1.0\n",
      "제 3 사분위 중복: 1.0\n"
     ]
    }
   ],
   "source": [
    "print('중복 최대 개수: {}'.format(np.max(train_set.value_counts())))\n",
    "print('중복 최소 개수: {}'.format(np.min(train_set.value_counts())))\n",
    "print('중복 평균 개수: {:.2f}'.format(np.mean(train_set.value_counts())))\n",
    "print('중복 표준편차: {:.2f}'.format(np.std(train_set.value_counts())))\n",
    "print('중복 중간길이: {}'.format(np.median(train_set.value_counts())))\n",
    "# 사분위의 대한 경우는 0~100 스케일로 되어있음\n",
    "print('제 1 사분위 중복: {}'.format(np.percentile(train_set.value_counts(), 25)))\n",
    "print('제 3 사분위 중복: {}'.format(np.percentile(train_set.value_counts(), 75)))"
   ]
  },
  {
   "cell_type": "code",
   "execution_count": 57,
   "metadata": {},
   "outputs": [
    {
     "data": {
      "text/plain": [
       "{'whiskers': [<matplotlib.lines.Line2D at 0x1ab4647f60>,\n",
       "  <matplotlib.lines.Line2D at 0x1ab46972e8>],\n",
       " 'caps': [<matplotlib.lines.Line2D at 0x1ab4697630>,\n",
       "  <matplotlib.lines.Line2D at 0x1ab4697978>],\n",
       " 'boxes': [<matplotlib.lines.Line2D at 0x1ab4647e10>],\n",
       " 'medians': [<matplotlib.lines.Line2D at 0x1ab4697cc0>],\n",
       " 'fliers': [<matplotlib.lines.Line2D at 0x1ab467a358>],\n",
       " 'means': [<matplotlib.lines.Line2D at 0x1ab467a048>]}"
      ]
     },
     "execution_count": 57,
     "metadata": {},
     "output_type": "execute_result"
    },
    {
     "data": {
      "image/png": "[encoded data removed]",
      "text/plain": [
       "<Figure size 864x360 with 1 Axes>"
      ]
     },
     "metadata": {
      "needs_background": "light"
     },
     "output_type": "display_data"
    }
   ],
   "source": [
    "plt.figure(figsize=(12, 5))\n",
    "# 박스플롯 생성\n",
    "# 첫번째 파라메터: 여러 분포에 대한 데이터 리스트를 입력\n",
    "# labels: 입력한 데이터에 대한 라벨\n",
    "# showmeans: 평균값을 마크함\n",
    "\n",
    "plt.boxplot([train_set.value_counts()],\n",
    "             labels=['counts'],\n",
    "             showmeans=True)"
   ]
  },
  {
   "cell_type": "code",
   "execution_count": 58,
   "metadata": {},
   "outputs": [
    {
     "data": {
      "text/plain": [
       "<matplotlib.axes._subplots.AxesSubplot at 0x1ab46b9f28>"
      ]
     },
     "execution_count": 58,
     "metadata": {},
     "output_type": "execute_result"
    },
    {
     "data": {
      "image/png": "[encoded data removed]",
      "text/plain": [
       "<Figure size 432x216 with 1 Axes>"
      ]
     },
     "metadata": {
      "needs_background": "light"
     },
     "output_type": "display_data"
    }
   ],
   "source": [
    "sentiment = train_data['is_duplicate'].value_counts()\n",
    "fig, axe = plt.subplots(ncols=1)\n",
    "fig.set_size_inches(6, 3)\n",
    "sns.countplot(train_data['is_duplicate'])"
   ]
  },
  {
   "cell_type": "code",
   "execution_count": 59,
   "metadata": {},
   "outputs": [],
   "source": [
    "train_length = train_set.apply(len)"
   ]
  },
  {
   "cell_type": "code",
   "execution_count": 60,
   "metadata": {},
   "outputs": [
    {
     "name": "stdout",
     "output_type": "stream",
     "text": [
      "질문 길이 최대 값: 1169\n",
      "질문 길이 평균 값: 59.82\n",
      "질문 길이 표준편차: 31.96\n",
      "질문 길이 중간 값: 51.0\n",
      "질문 길이 제 1 사분위: 39.0\n",
      "질문 길이 제 3 사분위: 72.0\n"
     ]
    }
   ],
   "source": [
    "print('질문 길이 최대 값: {}'.format(np.max(train_length)))\n",
    "print('질문 길이 평균 값: {:.2f}'.format(np.mean(train_length)))\n",
    "print('질문 길이 표준편차: {:.2f}'.format(np.std(train_length)))\n",
    "print('질문 길이 중간 값: {}'.format(np.median(train_length)))\n",
    "print('질문 길이 제 1 사분위: {}'.format(np.percentile(train_length, 25)))\n",
    "print('질문 길이 제 3 사분위: {}'.format(np.percentile(train_length, 75)))"
   ]
  },
  {
   "cell_type": "code",
   "execution_count": 61,
   "metadata": {},
   "outputs": [
    {
     "data": {
      "text/plain": [
       "{'whiskers': [<matplotlib.lines.Line2D at 0x1a475a14a8>,\n",
       "  <matplotlib.lines.Line2D at 0x1a475a17f0>],\n",
       " 'caps': [<matplotlib.lines.Line2D at 0x1a475a1b38>,\n",
       "  <matplotlib.lines.Line2D at 0x1a475a1e80>],\n",
       " 'boxes': [<matplotlib.lines.Line2D at 0x1a475a1358>],\n",
       " 'medians': [<matplotlib.lines.Line2D at 0x1a475aa208>],\n",
       " 'fliers': [<matplotlib.lines.Line2D at 0x1a475aa860>],\n",
       " 'means': [<matplotlib.lines.Line2D at 0x1a475aa550>]}"
      ]
     },
     "execution_count": 61,
     "metadata": {},
     "output_type": "execute_result"
    },
    {
     "data": {
      "image/png": "[encoded data removed]",
      "text/plain": [
       "<Figure size 864x360 with 1 Axes>"
      ]
     },
     "metadata": {
      "needs_background": "light"
     },
     "output_type": "display_data"
    }
   ],
   "source": [
    "plt.figure(figsize=(12, 5))\n",
    "\n",
    "plt.boxplot(train_length,\n",
    "             labels=['char counts'],\n",
    "             showmeans=True)"
   ]
  },
  {
   "cell_type": "code",
   "execution_count": 62,
   "metadata": {},
   "outputs": [],
   "source": [
    "train_word_counts = train_set.apply(lambda x:len(x.split(' ')))"
   ]
  },
  {
   "cell_type": "code",
   "execution_count": 63,
   "metadata": {},
   "outputs": [
    {
     "name": "stderr",
     "output_type": "stream",
     "text": [
      "/Users/JunChangWook/anaconda3/lib/python3.6/site-packages/matplotlib/axes/_axes.py:6499: MatplotlibDeprecationWarning: \n",
      "The 'normed' kwarg was deprecated in Matplotlib 2.1 and will be removed in 3.1. Use 'density' instead.\n",
      "  alternative=\"'density'\", removal=\"3.1\")\n"
     ]
    },
    {
     "data": {
      "text/plain": [
       "Text(0, 0.5, 'Prabability')"
      ]
     },
     "execution_count": 63,
     "metadata": {},
     "output_type": "execute_result"
    },
    {
     "data": {
      "image/png": "[encoded data removed]",
      "text/plain": [
       "<Figure size 1080x720 with 1 Axes>"
      ]
     },
     "metadata": {
      "needs_background": "light"
     },
     "output_type": "display_data"
    }
   ],
   "source": [
    "plt.figure(figsize=(15, 10))\n",
    "plt.hist(train_word_counts, bins=50, range=[0, 50], facecolor='r', normed=True, label='train')\n",
    "plt.title('Normalised histogram of word count in questions', fontsize=15)\n",
    "plt.legend()\n",
    "plt.xlabel('Number of words', fontsize=15)\n",
    "plt.ylabel('Prabability', fontsize=15)"
   ]
  },
  {
   "cell_type": "code",
   "execution_count": 69,
   "metadata": {},
   "outputs": [
    {
     "name": "stdout",
     "output_type": "stream",
     "text": [
      "질문 단어 개수 최대 값: 237\n",
      "질문 단어 개수 평균 값: 11.06\n",
      "질문 단어 개수 표준편차: 5.89\n",
      "질문 단어 개수 중간 값: 10.0\n",
      "질문 단어 개수 제 1 사분위: 7.0\n",
      "질문 단어 개수 제 3 사분위: 13.0\n",
      "질문 단어 개수 99 퍼센트: 31.0\n"
     ]
    }
   ],
   "source": [
    "print('질문 단어 개수 최대 값: {}'.format(np.max(train_word_counts)))\n",
    "print('질문 단어 개수 평균 값: {:.2f}'.format(np.mean(train_word_counts)))\n",
    "print('질문 단어 개수 표준편차: {:.2f}'.format(np.std(train_word_counts)))\n",
    "print('질문 단어 개수 중간 값: {}'.format(np.median(train_word_counts)))\n",
    "print('질문 단어 개수 제 1 사분위: {}'.format(np.percentile(train_word_counts, 25)))\n",
    "print('질문 단어 개수 제 3 사분위: {}'.format(np.percentile(train_word_counts, 75)))\n",
    "print('질문 단어 개수 99 퍼센트: {}'.format(np.percentile(train_word_counts, 99)))"
   ]
  },
  {
   "cell_type": "code",
   "execution_count": null,
   "metadata": {},
   "outputs": [],
   "source": [
    "plt.figure(figsize=(12, 5))\n",
    "\n",
    "plt.boxplot(train_word_counts,\n",
    "             labels=['counts'],\n",
    "             showmeans=True)"
   ]
  },
  {
   "cell_type": "code",
   "execution_count": null,
   "metadata": {},
   "outputs": [],
   "source": [
    "qmarks = np.mean(train_set.apply(lambda x: '?' in x)) # 물음표가 구두점으로 쓰임\n",
    "math = np.mean(train_set.apply(lambda x: '[math]' in x)) # []\n",
    "fullstop = np.mean(train_set.apply(lambda x: '.' in x)) # 마침표\n",
    "capital_first = np.mean(train_set.apply(lambda x: x[0].isupper())) #  첫번째 대문자\n",
    "capitals = np.mean(train_set.apply(lambda x: max([y.isupper() for y in x]))) # 대문자가 몇개\n",
    "numbers = np.mean(train_set.apply(lambda x: max([y.isdigit() for y in x]))) # 숫자가 몇개\n",
    "                  \n",
    "print('물음표가있는 질문: {:.2f}%'.format(qmarks * 100))\n",
    "print('수학 태그가있는 질문: {:.2f}%'.format(math * 100))\n",
    "print('질문이 가득 찼을 때: {:.2f}%'.format(fullstop * 100))\n",
    "print('첫 글자가 대문자 인 질문: {:.2f}%'.format(capital_first * 100))\n",
    "print('대문자가있는 질문: {:.2f}%'.format(capitals * 100))\n",
    "print('숫자가있는 질문: {:.2f}%'.format(numbers * 100))"
   ]
  },
  {
   "cell_type": "markdown",
   "metadata": {},
   "source": [
    "### 데이터 전처리"
   ]
  },
  {
   "cell_type": "code",
   "execution_count": 22,
   "metadata": {},
   "outputs": [],
   "source": [
    "import pandas as pd\n",
    "import numpy as np\n",
    "import re\n",
    "import json\n",
    "\n",
    "from tensorflow.python.keras.preprocessing.text import Tokenizer\n",
    "from tensorflow.python.keras.preprocessing.sequence import pad_sequences"
   ]
  },
  {
   "cell_type": "code",
   "execution_count": 23,
   "metadata": {},
   "outputs": [],
   "source": [
    "DATA_IN_PATH = './data_in/'\n",
    "FILTERS = \"([~.,!?\\\"':;)(])\"\n",
    "MAX_SEQUENCE_LENGTH = 31"
   ]
  },
  {
   "cell_type": "code",
   "execution_count": 24,
   "metadata": {},
   "outputs": [],
   "source": [
    "train_data = pd.read_csv(DATA_IN_PATH + 'train.csv', encoding='utf-8')"
   ]
  },
  {
   "cell_type": "code",
   "execution_count": 25,
   "metadata": {},
   "outputs": [],
   "source": [
    "train_pos_data = train_data.loc[train_data['is_duplicate'] == 1]\n",
    "train_neg_data = train_data.loc[train_data['is_duplicate'] == 0]\n",
    "\n",
    "class_difference = len(train_neg_data) - len(train_pos_data)\n",
    "sample_frac = 1 - (class_difference / len(train_neg_data))\n",
    "\n",
    "train_neg_data = train_neg_data.sample(frac = sample_frac)"
   ]
  },
  {
   "cell_type": "code",
   "execution_count": 26,
   "metadata": {},
   "outputs": [
    {
     "name": "stdout",
     "output_type": "stream",
     "text": [
      "중복 질문 개수: 149263\n",
      "중복이 아닌 질문 개수: 149263\n"
     ]
    }
   ],
   "source": [
    "print(\"중복 질문 개수: {}\".format(len(train_pos_data)))\n",
    "print(\"중복이 아닌 질문 개수: {}\".format(len(train_neg_data)))"
   ]
  },
  {
   "cell_type": "code",
   "execution_count": 27,
   "metadata": {},
   "outputs": [],
   "source": [
    "train_data = pd.concat([train_neg_data, train_pos_data])"
   ]
  },
  {
   "cell_type": "code",
   "execution_count": 28,
   "metadata": {},
   "outputs": [],
   "source": [
    "change_filter = re.compile(FILTERS)\n",
    "\n",
    "questions1 = [str(s) for s in train_data['question1']]\n",
    "questions2 = [str(s) for s in train_data['question2']]\n",
    "\n",
    "filtered_questions1 = list()\n",
    "filtered_questions2 = list()\n",
    "\n",
    "for q in questions1:\n",
    "     filtered_questions1.append(re.sub(change_filter, \"\", q).lower())\n",
    "        \n",
    "for q in questions2:\n",
    "     filtered_questions2.append(re.sub(change_filter, \"\", q).lower())"
   ]
  },
  {
   "cell_type": "code",
   "execution_count": 29,
   "metadata": {},
   "outputs": [],
   "source": [
    "tokenizer = Tokenizer()\n",
    "tokenizer.fit_on_texts(filtered_questions1 + filtered_questions2)"
   ]
  },
  {
   "cell_type": "code",
   "execution_count": 30,
   "metadata": {},
   "outputs": [],
   "source": [
    "questions1_sequence = tokenizer.texts_to_sequences(filtered_questions1)\n",
    "questions2_sequence = tokenizer.texts_to_sequences(filtered_questions2)"
   ]
  },
  {
   "cell_type": "code",
   "execution_count": 31,
   "metadata": {},
   "outputs": [],
   "source": [
    "q1_data = pad_sequences(questions1_sequence, maxlen=MAX_SEQUENCE_LENGTH, padding='post')\n",
    "q2_data = pad_sequences(questions2_sequence, maxlen=MAX_SEQUENCE_LENGTH, padding='post')"
   ]
  },
  {
   "cell_type": "code",
   "execution_count": 32,
   "metadata": {},
   "outputs": [
    {
     "name": "stdout",
     "output_type": "stream",
     "text": [
      "Shape of question1 data: (298526, 31)\n",
      "Shape of question2 data:(298526, 31)\n",
      "Shape of label: (298526,)\n",
      "Words in index: 76499\n"
     ]
    }
   ],
   "source": [
    "word_vocab = {}\n",
    "word_vocab = tokenizer.word_index \n",
    "\n",
    "labels = np.array(train_data['is_duplicate'], dtype=int)\n",
    "\n",
    "print('Shape of question1 data: {}'.format(q1_data.shape))\n",
    "print('Shape of question2 data:{}'.format(q2_data.shape))\n",
    "print('Shape of label: {}'.format(labels.shape))\n",
    "print(\"Words in index: {}\".format(len(word_vocab)))"
   ]
  },
  {
   "cell_type": "code",
   "execution_count": 33,
   "metadata": {},
   "outputs": [],
   "source": [
    "data_configs = {}\n",
    "data_configs['vocab'] = word_vocab\n",
    "data_configs['vocab_size'] = len(word_vocab)"
   ]
  },
  {
   "cell_type": "code",
   "execution_count": 34,
   "metadata": {},
   "outputs": [],
   "source": [
    "TRAIN_Q1_DATA = 'train_q1.npy'\n",
    "TRAIN_Q2_DATA = 'train_q2.npy'\n",
    "TRAIN_LABEL_DATA = 'train_label.npy'\n",
    "DATA_CONFIGS = 'data_configs.json'\n",
    "\n",
    "np.save(open(DATA_IN_PATH + TRAIN_Q1_DATA, 'wb'), q1_data)\n",
    "np.save(open(DATA_IN_PATH + TRAIN_Q2_DATA , 'wb'), q2_data)\n",
    "np.save(open(DATA_IN_PATH + TRAIN_LABEL_DATA , 'wb'), labels)\n",
    "\n",
    "json.dump(data_configs, open(DATA_IN_PATH + DATA_CONFIGS, 'w'))"
   ]
  },
  {
   "cell_type": "code",
   "execution_count": 40,
   "metadata": {},
   "outputs": [],
   "source": [
    "test_data = pd.read_csv(DATA_IN_PATH + 'test.csv', encoding='utf-8')"
   ]
  },
  {
   "cell_type": "code",
   "execution_count": 41,
   "metadata": {},
   "outputs": [],
   "source": [
    "test_questions1 = [str(s) for s in test_data['question1']]\n",
    "test_questions2 = [str(s) for s in test_data['question2']]\n",
    "\n",
    "filtered_test_questions1 = list()\n",
    "filtered_test_questions2 = list()\n",
    "\n",
    "for q in test_questions1:\n",
    "     filtered_test_questions1.append(re.sub(change_filter, \"\", q).lower())\n",
    "        \n",
    "for q in test_questions2:\n",
    "     filtered_test_questions2.append(re.sub(change_filter, \"\", q).lower())"
   ]
  },
  {
   "cell_type": "code",
   "execution_count": 42,
   "metadata": {},
   "outputs": [],
   "source": [
    "test_questions1_sequence = tokenizer.texts_to_sequences(filtered_test_questions1)\n",
    "test_questions2_sequence = tokenizer.texts_to_sequences(filtered_test_questions2)\n",
    "\n",
    "test_q1_data = pad_sequences(test_questions1_sequence, maxlen=MAX_SEQUENCE_LENGTH, padding='post')\n",
    "test_q2_data = pad_sequences(test_questions2_sequence, maxlen=MAX_SEQUENCE_LENGTH, padding='post')"
   ]
  },
  {
   "cell_type": "code",
   "execution_count": 43,
   "metadata": {},
   "outputs": [
    {
     "name": "stdout",
     "output_type": "stream",
     "text": [
      "Shape of question1 data: (2345796, 31)\n",
      "Shape of question2 data:(2345796, 31)\n",
      "Shape of ids: (2345796,)\n"
     ]
    }
   ],
   "source": [
    "test_id = np.array(test_data['test_id'])\n",
    "\n",
    "print('Shape of question1 data: {}'.format(test_q1_data.shape))\n",
    "print('Shape of question2 data:{}'.format(test_q2_data.shape))\n",
    "print('Shape of ids: {}'.format(test_id.shape))"
   ]
  },
  {
   "cell_type": "code",
   "execution_count": 44,
   "metadata": {},
   "outputs": [],
   "source": [
    "TEST_Q1_DATA = 'test_q1.npy'\n",
    "TEST_Q2_DATA = 'test_q2.npy'\n",
    "TEST_ID_DATA = 'test_id.npy'\n",
    "\n",
    "np.save(open(DATA_IN_PATH + TEST_Q1_DATA, 'wb'), test_q1_data)\n",
    "np.save(open(DATA_IN_PATH + TEST_Q2_DATA , 'wb'), test_q2_data)\n",
    "np.save(open(DATA_IN_PATH + TEST_ID_DATA , 'wb'), test_id)"
   ]
  },
  {
   "cell_type": "code",
   "execution_count": null,
   "metadata": {},
   "outputs": [],
   "source": []
  }
 ],
 "metadata": {
  "celltoolbar": "Raw Cell Format",
  "kernelspec": {
   "display_name": "Python 3",
   "language": "python",
   "name": "python3"
  },
  "language_info": {
   "codemirror_mode": {
    "name": "ipython",
    "version": 3
   },
   "file_extension": ".py",
   "mimetype": "text/x-python",
   "name": "python",
   "nbconvert_exporter": "python",
   "pygments_lexer": "ipython3",
   "version": "3.6.6"
  }
 },
 "nbformat": 4,
 "nbformat_minor": 2
}
