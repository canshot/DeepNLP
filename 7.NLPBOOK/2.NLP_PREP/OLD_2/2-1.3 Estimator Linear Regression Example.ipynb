{
 "cells": [
  {
   "cell_type": "markdown",
   "metadata": {},
   "source": [
    "## 2-1.3 Estimator Example 1"
   ]
  },
  {
   "cell_type": "markdown",
   "metadata": {},
   "source": [
    "### Linear Regression"
   ]
  },
  {
   "cell_type": "code",
   "execution_count": 6,
   "metadata": {},
   "outputs": [],
   "source": [
    "import numpy as np\n",
    "import tensorflow as tf\n",
    "\n",
    "num_points = 300\n",
    "vectors_set = []\n",
    "\n",
    "for i in range(num_points):\n",
    "    x = np.random.normal(5,5)+15\n",
    "    y =  x*2+ (np.random.normal(0,3))*2\n",
    "    vectors_set.append([x,y])\n",
    "    \n",
    "x_data = [v[0] for v in vectors_set]\n",
    "y_data = [v[1] for v in vectors_set]"
   ]
  },
  {
   "cell_type": "code",
   "execution_count": 4,
   "metadata": {},
   "outputs": [
    {
     "data": {
      "image/png": "[encoded data removed]",
      "text/plain": [
       "<Figure size 432x288 with 1 Axes>"
      ]
     },
     "metadata": {},
     "output_type": "display_data"
    }
   ],
   "source": [
    "import matplotlib.pyplot as plt\n",
    "plt.plot(x_data,y_data,'ro')\n",
    "plt.ylim([0,100])\n",
    "plt.xlim([5,35])\n",
    "plt.xlabel('x')\n",
    "plt.ylabel('y')\n",
    "plt.show()"
   ]
  },
  {
   "cell_type": "code",
   "execution_count": 14,
   "metadata": {},
   "outputs": [],
   "source": [
    "input_train = tf.estimator.inputs.numpy_input_fn(\n",
    "   x = {\"x\":np.array(x_data[:200],dtype=np.float32)},\n",
    "   y = np.array(y_data[:200],dtype=np.float32),\n",
    "   num_epochs=100000,\n",
    "   batch_size=50,\n",
    "   shuffle=True)"
   ]
  },
  {
   "cell_type": "code",
   "execution_count": 20,
   "metadata": {},
   "outputs": [],
   "source": [
    "input_eval = tf.estimator.inputs.numpy_input_fn(\n",
    "   x = {\"x\":np.array(x_data[200:300],dtype=np.float32)},\n",
    "   y = np.array(y_data[200:300],dtype=np.float32),\n",
    "   batch_size=50,\n",
    "   shuffle=True)"
   ]
  },
  {
   "cell_type": "code",
   "execution_count": 53,
   "metadata": {},
   "outputs": [],
   "source": [
    "predict_x = np.array([np.random.normal(5,5)+15 for _ in range(100)] ,dtype=np.float32)\n",
    "input_predict = tf.estimator.inputs.numpy_input_fn(\n",
    "   x={\"x\": predict_x},\n",
    "   num_epochs=1,\n",
    "   shuffle=False)"
   ]
  },
  {
   "cell_type": "code",
   "execution_count": 11,
   "metadata": {},
   "outputs": [],
   "source": [
    "feature_columns = [tf.feature_column.numeric_column(key=\"x\"),]"
   ]
  },
  {
   "cell_type": "code",
   "execution_count": 12,
   "metadata": {},
   "outputs": [
    {
     "name": "stdout",
     "output_type": "stream",
     "text": [
      "INFO:tensorflow:Using default config.\n",
      "WARNING:tensorflow:Using temporary folder as model directory: /tmp/tmp5dz_165d\n",
      "INFO:tensorflow:Using config: {'_model_dir': '/tmp/tmp5dz_165d', '_tf_random_seed': None, '_save_summary_steps': 100, '_save_checkpoints_steps': None, '_save_checkpoints_secs': 600, '_session_config': None, '_keep_checkpoint_max': 5, '_keep_checkpoint_every_n_hours': 10000, '_log_step_count_steps': 100, '_train_distribute': None, '_device_fn': None, '_service': None, '_cluster_spec': <tensorflow.python.training.server_lib.ClusterSpec object at 0x7f2df78535c0>, '_task_type': 'worker', '_task_id': 0, '_global_id_in_cluster': 0, '_master': '', '_evaluation_master': '', '_is_chief': True, '_num_ps_replicas': 0, '_num_worker_replicas': 1}\n"
     ]
    }
   ],
   "source": [
    "model = tf.estimator.LinearRegressor(feature_columns=feature_columns)"
   ]
  },
  {
   "cell_type": "code",
   "execution_count": 27,
   "metadata": {},
   "outputs": [
    {
     "name": "stdout",
     "output_type": "stream",
     "text": [
      "INFO:tensorflow:Calling model_fn.\n",
      "INFO:tensorflow:Done calling model_fn.\n",
      "INFO:tensorflow:Create CheckpointSaverHook.\n",
      "INFO:tensorflow:Graph was finalized.\n",
      "INFO:tensorflow:Restoring parameters from /tmp/tmp5dz_165d/model.ckpt-3000\n",
      "INFO:tensorflow:Running local_init_op.\n",
      "INFO:tensorflow:Done running local_init_op.\n",
      "INFO:tensorflow:Saving checkpoints for 3000 into /tmp/tmp5dz_165d/model.ckpt.\n",
      "INFO:tensorflow:loss = 1594.5286, step = 3000\n",
      "INFO:tensorflow:global_step/sec: 1211.6\n",
      "INFO:tensorflow:loss = 2072.0154, step = 3100 (0.083 sec)\n",
      "INFO:tensorflow:global_step/sec: 1577.87\n",
      "INFO:tensorflow:loss = 1985.5952, step = 3200 (0.063 sec)\n",
      "INFO:tensorflow:global_step/sec: 1565.73\n",
      "INFO:tensorflow:loss = 1580.4038, step = 3300 (0.064 sec)\n",
      "INFO:tensorflow:global_step/sec: 1564.53\n",
      "INFO:tensorflow:loss = 1606.6254, step = 3400 (0.064 sec)\n",
      "INFO:tensorflow:global_step/sec: 1562.57\n",
      "INFO:tensorflow:loss = 1640.6595, step = 3500 (0.064 sec)\n",
      "INFO:tensorflow:global_step/sec: 1573.87\n",
      "INFO:tensorflow:loss = 2464.0745, step = 3600 (0.064 sec)\n",
      "INFO:tensorflow:global_step/sec: 1578.44\n",
      "INFO:tensorflow:loss = 1652.3496, step = 3700 (0.063 sec)\n",
      "INFO:tensorflow:global_step/sec: 1594\n",
      "INFO:tensorflow:loss = 2499.0085, step = 3800 (0.063 sec)\n",
      "INFO:tensorflow:global_step/sec: 1575.78\n",
      "INFO:tensorflow:loss = 1931.2758, step = 3900 (0.064 sec)\n",
      "INFO:tensorflow:Saving checkpoints for 4000 into /tmp/tmp5dz_165d/model.ckpt.\n",
      "INFO:tensorflow:Loss for final step: 2274.7446.\n"
     ]
    },
    {
     "data": {
      "text/plain": [
       "<tensorflow.python.estimator.canned.linear.LinearRegressor at 0x7f2de6577470>"
      ]
     },
     "execution_count": 27,
     "metadata": {},
     "output_type": "execute_result"
    }
   ],
   "source": [
    "STEPS = 1000\n",
    "\n",
    "model.train(input_fn=input_train, steps=STEPS)"
   ]
  },
  {
   "cell_type": "code",
   "execution_count": 33,
   "metadata": {},
   "outputs": [
    {
     "name": "stdout",
     "output_type": "stream",
     "text": [
      "INFO:tensorflow:Calling model_fn.\n",
      "INFO:tensorflow:Done calling model_fn.\n",
      "INFO:tensorflow:Starting evaluation at 2018-10-04-06:36:49\n",
      "INFO:tensorflow:Graph was finalized.\n",
      "INFO:tensorflow:Restoring parameters from /tmp/tmp5dz_165d/model.ckpt-4000\n",
      "INFO:tensorflow:Running local_init_op.\n",
      "INFO:tensorflow:Done running local_init_op.\n",
      "INFO:tensorflow:Finished evaluation at 2018-10-04-06:36:49\n",
      "INFO:tensorflow:Saving dict for global step 4000: average_loss = 30.270908, global_step = 4000, loss = 1513.5454\n",
      "INFO:tensorflow:Saving 'checkpoint_path' summary for global step 4000: /tmp/tmp5dz_165d/model.ckpt-4000\n",
      "\n",
      "********************************************************************************\n",
      "\n",
      "MSE error for the test set: 30\n"
     ]
    }
   ],
   "source": [
    "eval_result = model.evaluate(input_fn=input_eval)\n",
    "average_loss = eval_result[\"average_loss\"]\n",
    "\n",
    "print(\"\\n\" + 80 * \"*\")\n",
    "print(\"\\nMSE error for the test set: {:.0f}\".format(average_loss))"
   ]
  },
  {
   "cell_type": "code",
   "execution_count": 54,
   "metadata": {},
   "outputs": [],
   "source": [
    "predict_results = model.predict(input_fn=input_predict)"
   ]
  },
  {
   "cell_type": "code",
   "execution_count": 55,
   "metadata": {},
   "outputs": [
    {
     "name": "stdout",
     "output_type": "stream",
     "text": [
      "INFO:tensorflow:Calling model_fn.\n",
      "INFO:tensorflow:Done calling model_fn.\n",
      "INFO:tensorflow:Graph was finalized.\n",
      "INFO:tensorflow:Restoring parameters from /tmp/tmp5dz_165d/model.ckpt-4000\n",
      "INFO:tensorflow:Running local_init_op.\n",
      "INFO:tensorflow:Done running local_init_op.\n"
     ]
    }
   ],
   "source": [
    "predict_y = [p['predictions'][0] for p in predict_results]"
   ]
  },
  {
   "cell_type": "code",
   "execution_count": 56,
   "metadata": {},
   "outputs": [
    {
     "data": {
      "image/png": "[encoded data removed]",
      "text/plain": [
       "<Figure size 432x288 with 1 Axes>"
      ]
     },
     "metadata": {},
     "output_type": "display_data"
    }
   ],
   "source": [
    "plt.plot(predict_x, predict_y,'ro')\n",
    "plt.ylim([0,100])\n",
    "plt.xlim([5,35])\n",
    "plt.xlabel('x')\n",
    "plt.ylabel('y')\n",
    "plt.show()"
   ]
  }
 ],
 "metadata": {
  "kernelspec": {
   "display_name": "Python 3",
   "language": "python",
   "name": "python3"
  },
  "language_info": {
   "codemirror_mode": {
    "name": "ipython",
    "version": 3
   },
   "file_extension": ".py",
   "mimetype": "text/x-python",
   "name": "python",
   "nbconvert_exporter": "python",
   "pygments_lexer": "ipython3",
   "version": "3.6.5"
  }
 },
 "nbformat": 4,
 "nbformat_minor": 2
}
