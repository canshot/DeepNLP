{
 "cells": [
  {
   "cell_type": "code",
   "execution_count": 20,
   "metadata": {},
   "outputs": [],
   "source": [
    "import pandas as pd\n",
    "import numpy as np\n",
    "\n",
    "from tensorflow.python.keras.preprocessing.text import Tokenizer\n",
    "from tensorflow.python.keras.preprocessing.sequence import pad_sequences\n",
    "\n",
    "import os\n",
    "from os.path import expanduser\n",
    "\n",
    "import json\n",
    "\n",
    "from sklearn.model_selection  import train_test_split"
   ]
  },
  {
   "cell_type": "code",
   "execution_count": 28,
   "metadata": {},
   "outputs": [],
   "source": [
    "DATA_IN_PATH = './data_in/'\n",
    "DATA_OUT_PATH = './data_out/'\n",
    "DEFAULT_PATH = '~/.kaggle/competitions/quora-question-pairs/'\n",
    "MAX_NB_WORDS = 200000\n",
    "MAX_SEQUENCE_LENGTH = 25\n",
    "\n",
    "TRAIN_Q1_DATA_FILE = 'train_q1.npy'\n",
    "TRAIN_Q2_DATA_FILE = 'train_q2.npy'\n",
    "TRAIN_LABEL_DATA_FILE = 'train_label.npy'\n",
    "\n",
    "TEST_Q1_DATA_FILE = 'test_q1.npy'\n",
    "TEST_Q2_DATA_FILE = 'test_q2.npy'\n",
    "\n",
    "df_train = pd.read_csv(DEFAULT_PATH + 'train.csv', encoding='utf-8')"
   ]
  },
  {
   "cell_type": "code",
   "execution_count": 22,
   "metadata": {},
   "outputs": [],
   "source": [
    "DATA_IN_PATH = expanduser('~/.kaggle/competitions/quora-question-pairs/')\n",
    "train_data = os.path.join(DATA_IN_PATH, 'train.csv')\n",
    "test_data = os.path.join(DATA_IN_PATH, 'test.csv')"
   ]
  },
  {
   "cell_type": "code",
   "execution_count": 23,
   "metadata": {},
   "outputs": [],
   "source": [
    "train_data = pd.read_csv(train_data, encoding='utf-8')\n",
    "train_data = train_data.dropna() #drop empty"
   ]
  },
  {
   "cell_type": "code",
   "execution_count": 24,
   "metadata": {},
   "outputs": [
    {
     "name": "stdout",
     "output_type": "stream",
     "text": [
      "Words in index: 95595\n"
     ]
    }
   ],
   "source": [
    "train_questions = list(train_data['question1']) + list(train_data['question2'])\n",
    "train_tokenizer = Tokenizer(num_words=MAX_NB_WORDS)\n",
    "train_tokenizer.fit_on_texts(train_questions)\n",
    "word_index = train_tokenizer.word_index\n",
    "\n",
    "train_question1_word_sequences = train_tokenizer.texts_to_sequences(train_data.question1)\n",
    "train_question2_word_sequences = train_tokenizer.texts_to_sequences(train_data.question2)\n",
    "\n",
    "print(\"Words in index: %d\" % len(word_index))"
   ]
  },
  {
   "cell_type": "code",
   "execution_count": 25,
   "metadata": {},
   "outputs": [],
   "source": [
    "is_duplicateTrain = train_data.is_duplicate"
   ]
  },
  {
   "cell_type": "code",
   "execution_count": 26,
   "metadata": {},
   "outputs": [
    {
     "name": "stdout",
     "output_type": "stream",
     "text": [
      "Shape of question1 data tensor: (404287, 25)\n",
      "Shape of question2 data tensor: (404287, 25)\n"
     ]
    }
   ],
   "source": [
    "train_q1_data = pad_sequences(train_question1_word_sequences, maxlen=MAX_SEQUENCE_LENGTH, padding='post')\n",
    "train_q2_data = pad_sequences(train_question2_word_sequences, maxlen=MAX_SEQUENCE_LENGTH, padding='post')\n",
    "labels = np.array(is_duplicateTrain, dtype=int)\n",
    "print('Shape of question1 data tensor:', train_q1_data.shape)\n",
    "print('Shape of question2 data tensor:', train_q2_data.shape)"
   ]
  },
  {
   "cell_type": "code",
   "execution_count": 29,
   "metadata": {},
   "outputs": [],
   "source": [
    "np.save(open(DATA_IN_PATH + TRAIN_Q1_DATA_FILE, 'wb'), train_q1_data)\n",
    "np.save(open(DATA_IN_PATH + TRAIN_Q2_DATA_FILE, 'wb'), train_q2_data)\n",
    "np.save(open(DATA_IN_PATH + TRAIN_LABEL_DATA_FILE, 'wb'), labels)"
   ]
  },
  {
   "cell_type": "code",
   "execution_count": 30,
   "metadata": {},
   "outputs": [],
   "source": [
    "test_df = pd.read_csv(test_data, encoding='utf-8')\n",
    "test_df = test_df.dropna() #drop empty"
   ]
  },
  {
   "cell_type": "code",
   "execution_count": 31,
   "metadata": {},
   "outputs": [
    {
     "name": "stdout",
     "output_type": "stream",
     "text": [
      "Words in index: 101312\n"
     ]
    }
   ],
   "source": [
    "test_questions = list(test_df['question1']) + list(test_df['question2'])\n",
    "test_tokenizer = Tokenizer(num_words=MAX_NB_WORDS)\n",
    "test_tokenizer.fit_on_texts(test_questions)\n",
    "word_index = test_tokenizer.word_index\n",
    "\n",
    "test_question1_word_sequences = test_tokenizer.texts_to_sequences(test_df.question1)\n",
    "test_question2_word_sequences = test_tokenizer.texts_to_sequences(test_df.question2)\n",
    "\n",
    "print(\"Words in index: %d\" % len(word_index))"
   ]
  },
  {
   "cell_type": "code",
   "execution_count": 32,
   "metadata": {},
   "outputs": [
    {
     "name": "stdout",
     "output_type": "stream",
     "text": [
      "Shape of question1 data tensor: (2345790, 25)\n",
      "Shape of question2 data tensor: (2345790, 25)\n"
     ]
    }
   ],
   "source": [
    "test_q1_data = pad_sequences(test_question1_word_sequences, maxlen=MAX_SEQUENCE_LENGTH, padding='post')\n",
    "test_q2_data = pad_sequences(test_question2_word_sequences, maxlen=MAX_SEQUENCE_LENGTH, padding='post')\n",
    "print('Shape of question1 data tensor:', test_q1_data.shape)\n",
    "print('Shape of question2 data tensor:', test_q2_data.shape)"
   ]
  },
  {
   "cell_type": "code",
   "execution_count": 33,
   "metadata": {},
   "outputs": [],
   "source": [
    "np.save(open(DATA_IN_PATH + TEST_Q1_DATA_FILE, 'wb'), test_q1_data)\n",
    "np.save(open(DATA_IN_PATH + TEST_Q2_DATA_FILE, 'wb'), test_q2_data)"
   ]
  },
  {
   "cell_type": "code",
   "execution_count": null,
   "metadata": {},
   "outputs": [],
   "source": []
  }
 ],
 "metadata": {
  "kernelspec": {
   "display_name": "Python 3",
   "language": "python",
   "name": "python3"
  },
  "language_info": {
   "codemirror_mode": {
    "name": "ipython",
    "version": 3
   },
   "file_extension": ".py",
   "mimetype": "text/x-python",
   "name": "python",
   "nbconvert_exporter": "python",
   "pygments_lexer": "ipython3",
   "version": "3.6.6"
  }
 },
 "nbformat": 4,
 "nbformat_minor": 2
}
