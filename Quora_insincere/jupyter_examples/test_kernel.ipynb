{
 "cells": [
  {
   "cell_type": "markdown",
   "metadata": {
    "_uuid": "367bba2188be754397ef35e974d1341856009950"
   },
   "source": [
    "## TL;DR\n",
    "\n",
    "This takes the ideas from my previous kernel:\n",
    "\n",
    "- Blending with Linear Regression: https://www.kaggle.com/suicaokhoailang/blending-with-linear-regression-0-688-lb\n",
    "\n",
    "- Beating the baseline with ONE WEIRD TRICK!: https://www.kaggle.com/suicaokhoailang/beating-the-baseline-with-one-weird-trick-0-691\n",
    "\n",
    "The trick is a bit weirder this time, here's how to reproduce:\n",
    "\n",
    "- Training an ensemble with normal train/validation split on a different kernel or locally.\n",
    "\n",
    "- Blend the ensemble with linear regression, take the coefficients and the optimal threshold.\n",
    "\n",
    "- Train and commit on full dataset, no validation, use the precomputed values above.\n",
    "\n",
    "The model is surprisingly robust, scoring 0.692 in two consecutive runs.\n",
    "\n",
    "Again, thank **Shujian Liu** for his great contributions."
   ]
  },
  {
   "cell_type": "markdown",
   "metadata": {
    "_uuid": "57212004253bf93eaef63a728d8839668a618006"
   },
   "source": [
    "* https://www.kaggle.com/shujian/single-rnn-with-4-folds-clr by shujian\n",
    "* https://www.kaggle.com/sudalairajkumar/a-look-at-different-embeddings by SRK\n",
    "* https://www.kaggle.com/christofhenkel/how-to-preprocessing-when-using-embeddings by Dieter\n",
    "* https://www.kaggle.com/shujian/mix-of-nn-models-based-on-meta-embedding by shujian\n",
    "* https://www.kaggle.com/gmhost/gru-capsule by Puck Wang\n",
    "* Based on SRK's kernel: https://www.kaggle.com/sudalairajkumar/a-look-at-different-embeddings\n",
    "* Vladimir Demidov's 2DCNN textClassifier: https://www.kaggle.com/yekenot/2dcnn-textclassifier\n",
    "* Attention layer from Khoi Ngyuen: https://www.kaggle.com/suicaokhoailang/lstm-attention-baseline-0-652-lb\n",
    "* LSTM model from Strideradu: https://www.kaggle.com/strideradu/word2vec-and-gensim-go-go-go\n",
    "* https://www.kaggle.com/danofer/different-embeddings-with-attention-fork"
   ]
  },
  {
   "cell_type": "code",
   "execution_count": 4,
   "metadata": {
    "_cell_guid": "b1076dfc-b9ad-4769-8c92-a6c4dae69d19",
    "_uuid": "8f2839f25d086af736a60e9eeb907d3b93b6e0e5"
   },
   "outputs": [
    {
     "name": "stdout",
     "output_type": "stream",
     "text": [
      "['embeddings', '.DS_Store', 'test.csv', 'train.csv']\n"
     ]
    }
   ],
   "source": [
    "# This Python 3 environment comes with many helpful analytics libraries installed\n",
    "# It is defined by the kaggle/python docker image: https://github.com/kaggle/docker-python\n",
    "# For example, here's several helpful packages to load in \n",
    "import numpy as np # linear algebra\n",
    "import pandas as pd # data processing, CSV file I/O (e.g. pd.read_csv)\n",
    "\n",
    "# Input data files are available in the \"../input/\" directory.\n",
    "# For example, running this (by clicking run or pressing Shift+Enter) will list the files in the input directory\n",
    "\n",
    "import os\n",
    "print(os.listdir(\"../input\"))\n",
    "\n",
    "# Any results you write to the current directory are saved as output."
   ]
  },
  {
   "cell_type": "code",
   "execution_count": 5,
   "metadata": {
    "_uuid": "e31d6e126881ee56a1de3efe02fcf309e900ef00"
   },
   "outputs": [],
   "source": [
    "## some config values \n",
    "embed_size = 300 # how big is each word vector\n",
    "max_features = 95000 # how many unique words to use (i.e num rows in embedding vector)\n",
    "maxlen = 70 # max number of words in a question to use"
   ]
  },
  {
   "cell_type": "markdown",
   "metadata": {
    "_uuid": "522d9790478f62193ea5c315372a2ab9cbe9b27f"
   },
   "source": [
    "**Load packages and data**"
   ]
  },
  {
   "cell_type": "code",
   "execution_count": 6,
   "metadata": {
    "_cell_guid": "79c7e3d0-c299-4dcb-8224-4455121ee9b0",
    "_uuid": "d629ff2d2480ee46fbb7e2d37f6b5fab8052498a"
   },
   "outputs": [],
   "source": [
    "import json\n",
    "import time\n",
    "import numpy as np # linear algebra\n",
    "import pandas as pd # data processing, CSV file I/O (e.g. pd.read_csv)\n",
    "from tqdm import tqdm\n",
    "import math\n",
    "from sklearn.model_selection import train_test_split\n",
    "from sklearn import metrics\n",
    "from sklearn.model_selection import GridSearchCV, StratifiedKFold\n",
    "from sklearn.metrics import f1_score, roc_auc_score\n",
    "\n",
    "from tensorflow.keras.preprocessing.text import Tokenizer\n",
    "from tensorflow.keras.preprocessing.sequence import pad_sequences\n",
    "from tensorflow.keras.layers import Dense, Input, CuDNNLSTM, Embedding, Dropout, Activation, CuDNNGRU, Conv1D\n",
    "from tensorflow.keras.layers import Bidirectional, GlobalMaxPool1D, GlobalMaxPooling1D, GlobalAveragePooling1D\n",
    "from tensorflow.keras.layers import Input, Embedding, Dense, Conv2D, MaxPool2D, concatenate\n",
    "from tensorflow.keras.layers import Reshape, Flatten, Concatenate, Dropout, SpatialDropout1D\n",
    "from tensorflow.keras.optimizers import Adam\n",
    "from tensorflow.keras.models import Model\n",
    "from tensorflow.keras import backend as K\n",
    "from tensorflow.keras.layers import Layer\n",
    "from tensorflow.keras import initializers, regularizers, constraints, optimizers, layers\n",
    "from tensorflow.keras.layers import concatenate\n",
    "from tensorflow.keras.callbacks import *\n",
    "from tensorflow import keras\n",
    "import tensorflow as tf\n",
    "\n",
    "import math\n",
    "from tensorflow.keras.models import Sequential\n",
    "from tensorflow.keras.layers import Dense, BatchNormalization, Dropout, Softmax, ReLU, Embedding\n",
    "\n",
    "\n",
    "os.environ[\"CUDA_VISIBLE_DEVICES\"]=\"7\""
   ]
  },
  {
   "cell_type": "code",
   "execution_count": 7,
   "metadata": {
    "_uuid": "e18ed4339c33036cc39ded79c58901da9fbe0aeb"
   },
   "outputs": [],
   "source": [
    "# puncts = [ '\"', ')', '(', '-', '|', \"'\", '$', '&', '/', '[', ']', '>', '%', '=', '#', '*', '+', '\\\\', '•',  '~', '@', '£', \n",
    "#  '·', '_', '{', '}', '©', '^', '®', '`',  '<', '→', '°', '€', '™', '›',  '♥', '←', '×', '§', '″', '′', 'Â', '█', '½', 'à', '…', \n",
    "#  '“', '★', '”', '–', '●', 'â', '►', '−', '¢', '²', '¬', '░', '¶', '↑', '±', '¿', '▾', '═', '¦', '║', '―', '¥', '▓', '—', '‹', '─', \n",
    "#  '▒', '：', '¼', '⊕', '▼', '▪', '†', '■', '’', '▀', '¨', '▄', '♫', '☆', 'é', '¯', '♦', '¤', '▲', 'è', '¸', '¾', 'Ã', '⋅', '‘', '∞', \n",
    "#  '∙', '）', '↓', '、', '│', '（', '»', '，', '♪', '╩', '╚', '³', '・', '╦', '╣', '╔', '╗', '▬', '❤', 'ï', 'Ø', '¹', '≤', '‡', '√', \n",
    "# 'é', '&amp;','₹', 'á', '²', 'ế', '청', '하', '¨', '‘', '√', '\\xa0', '高', '端', '大', '气', '上', '档', '次', '_', '½', 'π', '#', \n",
    "# '小', '鹿', '乱', '撞', '成', '语', 'ë', 'à', 'ç', '@', 'ü', 'č', 'ć', 'ž', 'đ', '°', 'द', 'े', 'श', '्', 'र', 'ो', 'ह', \n",
    "# 'ि', 'प', 'स', 'थ', 'त', 'न', 'व', 'ा', 'ल', 'ं', '林', '彪', '€', '\\u200b', '˚', 'ö', '~', '—', '越', '人', 'च', 'म', 'क', \n",
    "# 'ु', 'य', 'ी', 'ê', 'ă', 'ễ', '∞', '抗', '日', '神', '剧', '，', '\\uf02d', '–', 'ご', 'め', 'な', 'さ', 'い', 'す', \n",
    "# 'み', 'ま', 'せ', 'ん', 'ó', 'è', '£', '¡', 'ś', '≤', '¿', 'λ', '魔', '法', '师', '）', 'ğ', 'ñ', 'ř', '그', '자', '식', '멀', \n",
    "# '쩡', '다', '인', '공', '호', '흡', '데', '혀', '밀', '어', '넣', '는', '거', '보', '니', 'ǒ', 'ú', '️', 'ش', 'ه', 'ا', 'د',\n",
    "# 'ة', 'ل', 'ت', 'َ', 'ع', 'م', 'ّ', 'ق', 'ِ', 'ف', 'ي', 'ب', 'ح', 'ْ', 'ث', '³', '饭', '可', '以', '吃', '话', '不', '讲', \n",
    "# '∈', 'ℝ', '爾', '汝', '文', '言', '∀', '禮', 'इ', 'ब', 'छ', 'ड', '़', 'ʒ', '有', '「', '寧', '錯', '殺', '一', '千', '絕', \n",
    "# '放', '過', '」', '之', '勢', '㏒', '㏑', 'ू', 'â', 'ω', 'ą', 'ō', '精', '杯', 'í', '生', '懸', '命', 'ਨ', 'ਾ', 'ਮ', 'ੁ', \n",
    "# '₁', '₂', 'ϵ', 'ä', 'к', 'ɾ', '\\ufeff', 'ã', '©', '\\x9d', 'ū', '™', '＝', 'ù', 'ɪ', 'ŋ', 'خ', 'ر', 'س', 'ن', 'ḵ', 'ā']\n",
    "puncts = [',', '.', '\"', ':', ')', '(', '-', '!', '?', '|', ';', \"'\", '$', '&', '/', '[', ']', '>', '%', '=', '#', '*', '+', '\\\\', '•',  '~', '@', '£', \n",
    " '·', '_', '{', '}', '©', '^', '®', '`',  '<', '→', '°', '€', '™', '›',  '♥', '←', '×', '§', '″', '′', 'Â', '█', '½', 'à', '…', \n",
    " '“', '★', '”', '–', '●', 'â', '►', '−', '¢', '²', '¬', '░', '¶', '↑', '±', '¿', '▾', '═', '¦', '║', '―', '¥', '▓', '—', '‹', '─', \n",
    " '▒', '：', '¼', '⊕', '▼', '▪', '†', '■', '’', '▀', '¨', '▄', '♫', '☆', 'é', '¯', '♦', '¤', '▲', 'è', '¸', '¾', 'Ã', '⋅', '‘', '∞', \n",
    " '∙', '）', '↓', '、', '│', '（', '»', '，', '♪', '╩', '╚', '³', '・', '╦', '╣', '╔', '╗', '▬', '❤', 'ï', 'Ø', '¹', '≤', '‡', '√', ]\n",
    "def clean_text(x):\n",
    "    x = str(x)\n",
    "    for punct in puncts:\n",
    "        x = x.replace(punct, f' {punct} ')\n",
    "    return x\n",
    "\n",
    "def split_text(x):\n",
    "    x = wordninja.split(x)\n",
    "    return '-'.join(x)"
   ]
  },
  {
   "cell_type": "code",
   "execution_count": 8,
   "metadata": {},
   "outputs": [],
   "source": [
    "def load_and_prec():\n",
    "    train_df = pd.read_csv(\"../input/train.csv\")\n",
    "    test_df = pd.read_csv(\"../input/test.csv\")\n",
    "    print(\"Train shape : \",train_df.shape)\n",
    "    print(\"Test shape : \",test_df.shape)\n",
    "    \n",
    "    train_df[\"question_text\"] = train_df[\"question_text\"].str.lower()\n",
    "    test_df[\"question_text\"] = test_df[\"question_text\"].str.lower()\n",
    "    \n",
    "    train_df[\"question_text\"] = train_df[\"question_text\"].apply(lambda x: clean_text(x))\n",
    "    test_df[\"question_text\"] = test_df[\"question_text\"].apply(lambda x: clean_text(x))\n",
    "    \n",
    "        \n",
    "    ## fill up the missing values\n",
    "    train_X = train_df[\"question_text\"].fillna(\"_##_\").values\n",
    "    test_X = test_df[\"question_text\"].fillna(\"_##_\").values\n",
    "    \n",
    "    ## Tokenize the sentences\n",
    "    tokenizer = Tokenizer(num_words=max_features)\n",
    "    tokenizer.fit_on_texts(list(train_X))\n",
    "    train_X = tokenizer.texts_to_sequences(train_X)\n",
    "    test_X = tokenizer.texts_to_sequences(test_X)\n",
    "\n",
    "    ## Pad the sentences \n",
    "    train_X = pad_sequences(train_X, maxlen=maxlen)\n",
    "    test_X = pad_sequences(test_X, maxlen=maxlen)\n",
    "\n",
    "    ## Get the target values\n",
    "    train_y = train_df['target'].values\n",
    "    \n",
    "    #shuffling the data\n",
    "    np.random.seed(2018)\n",
    "    trn_idx = np.random.permutation(len(train_X))\n",
    "\n",
    "    train_X = train_X[trn_idx]\n",
    "    train_y = train_y[trn_idx]\n",
    "    \n",
    "    return train_X, test_X, train_y, tokenizer.word_index"
   ]
  },
  {
   "cell_type": "code",
   "execution_count": null,
   "metadata": {
    "_uuid": "5cdc95950037613c690c49b27930ae0f59eb23c3"
   },
   "outputs": [],
   "source": [
    "def load_and_prec():\n",
    "    train_df = pd.read_csv(\"../input/train.csv\")\n",
    "    test_df = pd.read_csv(\"../input/test.csv\")\n",
    "    \n",
    "    train_df[\"question_text\"] = train_df[\"question_text\"].str.lower()\n",
    "    test_df[\"question_text\"] = test_df[\"question_text\"].str.lower()\n",
    "    \n",
    "    train_df[\"question_text\"] = train_df[\"question_text\"].apply(lambda x: clean_text(x))\n",
    "    test_df[\"question_text\"] = test_df[\"question_text\"].apply(lambda x: clean_text(x))\n",
    "    \n",
    "    print(\"Train shape : \",train_df.shape)\n",
    "    print(\"Test shape : \",test_df.shape)\n",
    "    \n",
    "    ## split to train and val\n",
    "    train_df, val_df = train_test_split(train_df, test_size=0.001, random_state=2018) # hahaha\n",
    "\n",
    "\n",
    "    ## fill up the missing values\n",
    "    train_X = train_df[\"question_text\"].fillna(\"_##_\").values\n",
    "    val_X = val_df[\"question_text\"].fillna(\"_##_\").values\n",
    "    test_X = test_df[\"question_text\"].fillna(\"_##_\").values\n",
    "\n",
    "    ## Tokenize the sentences\n",
    "    tokenizer = Tokenizer(num_words=max_features)\n",
    "    tokenizer.fit_on_texts(list(train_X))\n",
    "    train_X = tokenizer.texts_to_sequences(train_X)\n",
    "    val_X = tokenizer.texts_to_sequences(val_X)\n",
    "    test_X = tokenizer.texts_to_sequences(test_X)\n",
    "\n",
    "    ## Pad the sentences \n",
    "    train_X = pad_sequences(train_X, maxlen=maxlen)\n",
    "    val_X = pad_sequences(val_X, maxlen=maxlen)\n",
    "    test_X = pad_sequences(test_X, maxlen=maxlen)\n",
    "\n",
    "    ## Get the target values\n",
    "    train_y = train_df['target'].values\n",
    "    val_y = val_df['target'].values  \n",
    "    \n",
    "    #shuffling the data\n",
    "    np.random.seed(2018)\n",
    "    trn_idx = np.random.permutation(len(train_X))\n",
    "    val_idx = np.random.permutation(len(val_X))\n",
    "\n",
    "    train_X = train_X[trn_idx]\n",
    "    val_X = val_X[val_idx]\n",
    "    train_y = train_y[trn_idx]\n",
    "    val_y = val_y[val_idx]    \n",
    "    \n",
    "    return train_X, val_X, test_X, train_y, val_y, tokenizer.word_index"
   ]
  },
  {
   "cell_type": "markdown",
   "metadata": {
    "_uuid": "dba1893c267a1e7536bbf720636647d85c7e349c"
   },
   "source": [
    "**Load embeddings**"
   ]
  },
  {
   "cell_type": "code",
   "execution_count": 2,
   "metadata": {
    "_uuid": "a662716cc5fbbcc0c84019a87c52332ed8912e8d"
   },
   "outputs": [],
   "source": [
    "def load_glove(word_index):\n",
    "    EMBEDDING_FILE = '../input/embeddings/glove.840B.300d/glove.840B.300d.txt'\n",
    "    def get_coefs(word,*arr): return word, np.asarray(arr, dtype='float32')\n",
    "    embeddings_index = dict(get_coefs(*o.split(\" \")) for o in open(EMBEDDING_FILE))\n",
    "\n",
    "    all_embs = np.stack(embeddings_index.values())\n",
    "    emb_mean,emb_std = -0.005838499,0.48782197\n",
    "    embed_size = all_embs.shape[1]\n",
    "\n",
    "    # word_index = tokenizer.word_index\n",
    "    nb_words = min(max_features, len(word_index))\n",
    "    embedding_matrix = np.random.normal(emb_mean, emb_std, (nb_words, embed_size))\n",
    "    for word, i in word_index.items():\n",
    "        if i >= max_features: continue\n",
    "        embedding_vector = embeddings_index.get(word)\n",
    "        if embedding_vector is not None: embedding_matrix[i] = embedding_vector\n",
    "            \n",
    "    return embedding_matrix \n",
    "    \n",
    "def load_fasttext(word_index):    \n",
    "    EMBEDDING_FILE = '../input/embeddings/wiki-news-300d-1M/wiki-news-300d-1M.vec'\n",
    "    def get_coefs(word,*arr): return word, np.asarray(arr, dtype='float32')\n",
    "    embeddings_index = dict(get_coefs(*o.split(\" \")) for o in open(EMBEDDING_FILE) if len(o)>100)\n",
    "\n",
    "    all_embs = np.stack(embeddings_index.values())\n",
    "    emb_mean,emb_std = all_embs.mean(), all_embs.std()\n",
    "    embed_size = all_embs.shape[1]\n",
    "\n",
    "    # word_index = tokenizer.word_index\n",
    "    nb_words = min(max_features, len(word_index))\n",
    "    embedding_matrix = np.random.normal(emb_mean, emb_std, (nb_words, embed_size))\n",
    "    for word, i in word_index.items():\n",
    "        if i >= max_features: continue\n",
    "        embedding_vector = embeddings_index.get(word)\n",
    "        if embedding_vector is not None: embedding_matrix[i] = embedding_vector\n",
    "\n",
    "    return embedding_matrix\n",
    "\n",
    "def load_para(word_index):\n",
    "    EMBEDDING_FILE = '../input/embeddings/paragram_300_sl999/paragram_300_sl999.txt'\n",
    "    def get_coefs(word,*arr): return word, np.asarray(arr, dtype='float32')\n",
    "    embeddings_index = dict(get_coefs(*o.split(\" \")) for o in open(EMBEDDING_FILE, encoding=\"utf8\", errors='ignore') if len(o)>100)\n",
    "\n",
    "    all_embs = np.stack(embeddings_index.values())\n",
    "    emb_mean,emb_std = -0.0053247833,0.49346462\n",
    "    embed_size = all_embs.shape[1]\n",
    "    print(emb_mean,emb_std,\"para\")\n",
    "\n",
    "    # word_index = tokenizer.word_index\n",
    "    nb_words = min(max_features, len(word_index))\n",
    "    embedding_matrix = np.random.normal(emb_mean, emb_std, (nb_words, embed_size))\n",
    "    for word, i in word_index.items():\n",
    "        if i >= max_features: continue\n",
    "        embedding_vector = embeddings_index.get(word)\n",
    "        if embedding_vector is not None: embedding_matrix[i] = embedding_vector\n",
    "    \n",
    "    return embedding_matrix"
   ]
  },
  {
   "cell_type": "code",
   "execution_count": null,
   "metadata": {},
   "outputs": [],
   "source": [
    "# For loading train & test dataset\n",
    "if os.path.exists(DATA_DIR + TRAIN_DATA):\n",
    "    print(\"preprocessing data exists\")\n",
    "    train_X = np.load(open(DATA_DIR + TRAIN_DATA, 'rb'))\n",
    "    test_X = np.load(open(DATA_DIR + TRAIN_LABEL_DATA, 'rb'))\n",
    "    data_configs = json.load(open(DATA_DIR + DATA_CONFIGS, 'r'))\n",
    "    word_index = data_configs['vocab']\n",
    "else:\n",
    "    print(\"no preprocessing file exists\")\n",
    "    train_X, test_X, train_y, word_vocab = load_and_prec()\n",
    "\n",
    "# For embedding set\n",
    "if os.path.exists(DATA_DIR + 'glove.npy'):\n",
    "    print(\"embedding data exists\")\n",
    "    embedding_matrix_1 = np.load(open(DATA_DIR + 'glove.npy', 'rb'))\n",
    "    embedding_matrix_3 = np.load(open(DATA_DIR + 'para.npy', 'rb'))\n",
    "\n",
    "else:\n",
    "    print(\"no embedding file exists\")\n",
    "    embedding_matrix_1 = load_glove(word_index)\n",
    "    embedding_matrix_2 = load_fasttext(word_index)\n",
    "    embedding_matrix_3 = load_para(word_index)\n",
    "    \n",
    "## Simple average: http://aclweb.org/anthology/N18-2031\n",
    "\n",
    "# We have presented an argument for averaging as\n",
    "# a valid meta-embedding technique, and found experimental\n",
    "# performance to be close to, or in some cases \n",
    "# better than that of concatenation, with the\n",
    "# additional benefit of reduced dimensionality  \n",
    "\n",
    "\n",
    "## Unweighted DME in https://arxiv.org/pdf/1804.07983.pdf\n",
    "\n",
    "# “The downside of concatenating embeddings and \n",
    "#  giving that as input to an RNN encoder, however,\n",
    "#  is that the network then quickly becomes inefficient\n",
    "#  as we combine more and more embeddings.”\n",
    "  \n",
    "embedding_matrix = np.mean([embedding_matrix_1, embedding_matrix_3], axis = 0)\n",
    "np.shape(embedding_matrix)"
   ]
  },
  {
   "cell_type": "markdown",
   "metadata": {},
   "source": [
    "**Transformer**"
   ]
  },
  {
   "cell_type": "code",
   "execution_count": null,
   "metadata": {},
   "outputs": [],
   "source": [
    "PAD_TOKEN_INDEX = 0\n",
    "\n",
    "class PositionalEncoding:\n",
    "    \"\"\"\n",
    "    Args:\n",
    "       dropout (float): dropout parameter\n",
    "       dim (int): embedding size\n",
    "    \"\"\"\n",
    "\n",
    "    def __init__(self, dim, max_len=5000):\n",
    "\n",
    "        pe = np.zeros(shape=(max_len, dim))\n",
    "        position = np.expand_dims(np.arange(0, max_len), axis=1)\n",
    "        div_term = np.exp((np.arange(0, dim, 2) * -(math.log(10000.0) / dim)))\n",
    "        pe[:, 0::2] = np.sin(position * div_term)\n",
    "        pe[:, 1::2] = np.cos(position * div_term)\n",
    "        pe = np.expand_dims(pe, axis=0)\n",
    "\n",
    "        self.pe = tf.convert_to_tensor(pe, dtype=tf.float32)\n",
    "        self.dim = dim\n",
    "\n",
    "    def __call__(self, x, step=None):\n",
    "        batch_size, seq_len, d_model = shape_from_tensor(x)\n",
    "        if step is None:\n",
    "            return self.pe[:, :seq_len]\n",
    "        else:\n",
    "            return self.pe[:, step]\n",
    "\n",
    "def pad_masking(batch_size, lengths, seq_len):\n",
    "    # x: (batch_size, seq_len, embed_size)\n",
    "    positions = tf.range(seq_len)\n",
    "    positions_expanded = tf.tile(tf.expand_dims(positions, axis=0), multiples=(batch_size, 1))\n",
    "    lengths_expanded = tf.expand_dims(lengths, axis=1)\n",
    "    mask = positions_expanded >= lengths_expanded\n",
    "    return tf.expand_dims(mask, axis=1)\n",
    "        \n",
    "def shape_from_tensor(tensor):\n",
    "    return [(dimension.value if dimension.value is not None else -1) for dimension in tensor.shape]\n",
    "\n",
    "class TransformerEmbedding:\n",
    "\n",
    "    def __init__(self, encoder):\n",
    "        self.encoder = encoder\n",
    "\n",
    "    def __call__(self, sources, lengths):\n",
    "        # sources : (batch_size, sources_len)\n",
    "        # inputs : (batch_size, targets_len - 1)\n",
    "        batch_size, sources_len, d_model = shape_from_tensor(sources)\n",
    "\n",
    "        # sources_mask = None\n",
    "        sources_mask = pad_masking(batch_size, lengths, sources_len)\n",
    "\n",
    "        self.encoded = self.encoder(sources, sources_mask)  # (batch_size, seq_len, d_model)\n",
    "        cbow = tf.reduce_mean(self.encoded, axis=1)\n",
    "        return cbow\n",
    "\n",
    "class TransformerEncoder:\n",
    "\n",
    "    def __init__(self, layers_count, d_model, heads_count, d_ff, dropout_prob, positional_encoding=None):\n",
    "        self.d_model = d_model\n",
    "        self.encoder_layers = [TransformerEncoderLayer(d_model, heads_count, d_ff, dropout_prob) for _ in\n",
    "                               range(layers_count)]\n",
    "        self.positional_encoding = positional_encoding\n",
    "        self.dropout = Dropout(dropout_prob)\n",
    "\n",
    "    def __call__(self, sources, mask):\n",
    "        \"\"\"\n",
    "        args:\n",
    "           sources: embedded_sequence, (batch_size, seq_len, embed_size)\n",
    "        \"\"\"\n",
    "        sources = sources * math.sqrt(self.d_model)\n",
    "        if self.positional_encoding is not None:\n",
    "            sources = sources + self.positional_encoding(sources)\n",
    "        sources = self.dropout(sources)\n",
    "\n",
    "        for encoder_layer in self.encoder_layers:\n",
    "            sources = encoder_layer(sources, mask)\n",
    "\n",
    "        return sources\n",
    "\n",
    "class TransformerEncoderLayer:\n",
    "\n",
    "    def __init__(self, d_model, heads_count, d_ff, dropout_prob):\n",
    "        self.self_attention_layer = Sublayer(MultiHeadAttention(heads_count, d_model, dropout_prob), d_model)\n",
    "        self.pointwise_feedforward_layer = Sublayer(PointwiseFeedForwardNetwork(d_ff, d_model, dropout_prob), d_model)\n",
    "        self.dropout = Dropout(dropout_prob)\n",
    "\n",
    "    def __call__(self, sources, sources_mask):\n",
    "        # x: (batch_size, seq_len, d_model)\n",
    "\n",
    "        sources = self.self_attention_layer(sources, sources, sources, sources_mask)\n",
    "        sources = self.dropout(sources)\n",
    "        sources = self.pointwise_feedforward_layer(sources)\n",
    "\n",
    "        return sources    \n",
    "\n",
    "class Sublayer:\n",
    "\n",
    "    def __init__(self, sublayer, d_model):\n",
    "        self.sublayer = sublayer\n",
    "        self.layer_normalization = LayerNormalization(d_model)\n",
    "\n",
    "    def __call__(self, *args):\n",
    "        x = args[0]\n",
    "        x = self.sublayer(*args) + x\n",
    "        return self.layer_normalization(x)\n",
    "\n",
    "class LayerNormalization:\n",
    "\n",
    "    def __init__(self, features_count, epsilon=1e-6):\n",
    "        self.gain = tf.Variable(tf.ones(features_count))\n",
    "        self.bias = tf.Variable(tf.zeros(features_count))\n",
    "        self.epsilon = epsilon\n",
    "\n",
    "    def __call__(self, x):\n",
    "        mean, variance = tf.nn.moments(x, [-1], keep_dims=True)\n",
    "        std = variance ** (1 / 2)\n",
    "\n",
    "        return self.gain * (x - mean) / (std + self.epsilon) + self.bias\n",
    "\n",
    "\n",
    "class MultiHeadAttention:\n",
    "\n",
    "    def __init__(self, heads_count, d_model, dropout_prob, mode='self-attention'):\n",
    "\n",
    "        assert d_model % heads_count == 0\n",
    "        assert mode in ('self-attention', 'memory-attention')\n",
    "\n",
    "        self.d_head = d_model // heads_count\n",
    "        self.heads_count = heads_count\n",
    "        self.mode = mode\n",
    "        self.query_projection = Dense(heads_count * self.d_head, input_dim=d_model)\n",
    "        self.key_projection = Dense(heads_count * self.d_head, input_dim=d_model)\n",
    "        self.value_projection = Dense(heads_count * self.d_head, input_dim=d_model)\n",
    "        self.final_projection = Dense(heads_count * self.d_head, input_dim=d_model)\n",
    "        self.dropout = Dropout(dropout_prob)\n",
    "        self.softmax = Softmax(axis=3)\n",
    "\n",
    "        self.attention = None\n",
    "        # For cache\n",
    "        self.key_projected = None\n",
    "        self.value_projected = None\n",
    "\n",
    "    def __call__(self, query, key, value, mask=None, layer_cache=None):\n",
    "        \"\"\"\n",
    "\n",
    "        Args:\n",
    "            query: (batch_size, query_len, model_dim)\n",
    "            key: (batch_size, key_len, model_dim)\n",
    "            value: (batch_size, value_len, model_dim)\n",
    "            mask: (batch_size, query_len, key_len)\n",
    "        \"\"\"\n",
    "        batch_size, query_len, d_model = shape_from_tensor(query)\n",
    "\n",
    "        d_head = d_model // self.heads_count\n",
    "\n",
    "        query_projected = self.query_projection(query)\n",
    "        if layer_cache is None or layer_cache[self.mode] is None:  # Don't use cache\n",
    "            key_projected = self.key_projection(key)\n",
    "            value_projected = self.value_projection(value)\n",
    "        else:  # Use cache\n",
    "            if self.mode == 'self-attention':\n",
    "                key_projected = self.key_projection(key)\n",
    "                value_projected = self.value_projection(value)\n",
    "\n",
    "                key_projected = tf.concat([key_projected, layer_cache[self.mode]['key_projected']], axis=1)\n",
    "                value_projected = tf.concat([value_projected, layer_cache[self.mode]['value_projected']], axis=1)\n",
    "            elif self.mode == 'memory-attention':\n",
    "                key_projected = layer_cache[self.mode]['key_projected']\n",
    "                value_projected = layer_cache[self.mode]['value_projected']\n",
    "            else:\n",
    "                raise NotImplementedError()\n",
    "\n",
    "        # For cache\n",
    "        self.key_projected = key_projected\n",
    "        self.value_projected = value_projected\n",
    "\n",
    "        batch_size, key_len, d_model = shape_from_tensor(key_projected)\n",
    "        batch_size, value_len, d_model = shape_from_tensor(value_projected)\n",
    "\n",
    "        query_heads = tf.transpose(\n",
    "            tf.reshape(query_projected, shape=(batch_size, query_len, self.heads_count, d_head)),\n",
    "            perm=[0, 2, 1, 3])  # (batch_size, heads_count, query_len, d_head)\n",
    "        key_heads = tf.transpose(\n",
    "            tf.reshape(key_projected, shape=(batch_size, key_len, self.heads_count, d_head)),\n",
    "            perm=[0, 2, 1, 3])  # (batch_size, heads_count, key_len, d_head)\n",
    "        value_heads = tf.transpose(\n",
    "            tf.reshape(value_projected, shape=(batch_size, value_len, self.heads_count, d_head)),\n",
    "            perm=[0, 2, 1, 3])  # (batch_size, heads_count, value_len, d_head)\n",
    "\n",
    "        attention_weights = self.scaled_dot_product(query_heads,\n",
    "                                                    key_heads)  # (batch_size, heads_count, query_len, key_len)\n",
    "\n",
    "        if mask is not None:\n",
    "            # attention_weights = tf.multiply(attention_weights, 1 - tf.cast(mask, attention_weights.type()))\n",
    "            mask_expanded = tf.tile(tf.expand_dims(mask, axis=1), multiples=(1, self.heads_count, query_len, 1))\n",
    "            zeros = tf.constant(-1e18, shape=mask_expanded.shape)\n",
    "            attention_weights = tf.where(mask_expanded, x=zeros, y=attention_weights)\n",
    "\n",
    "        self.attention = self.softmax(attention_weights)  # Save attention to the object\n",
    "        attention_dropped = self.dropout(self.attention)\n",
    "        context_heads = tf.matmul(attention_dropped, value_heads)  # (batch_size, heads_count, query_len, d_head)\n",
    "        context_sequence = tf.transpose(context_heads,\n",
    "                                        perm=[0, 2, 1, 3])  # (batch_size, query_len, heads_count, d_head)\n",
    "        context = tf.reshape(context_sequence,\n",
    "                             shape=(batch_size, query_len, d_model))  # (batch_size, query_len, d_model)\n",
    "        final_output = self.final_projection(context)\n",
    "\n",
    "        return final_output\n",
    "\n",
    "    def scaled_dot_product(self, query_heads, key_heads):\n",
    "        \"\"\"\n",
    "\n",
    "        Args:\n",
    "             query_heads: (batch_size, heads_count, query_len, d_head)\n",
    "             key_heads: (batch_size, heads_count, key_len, d_head)\n",
    "        \"\"\"\n",
    "        key_heads_transposed = tf.transpose(key_heads, perm=[0, 1, 3, 2])\n",
    "        dot_product = query_heads @ key_heads_transposed  # (batch_size, heads_count, query_len, key_len)\n",
    "        attention_weights = dot_product / np.sqrt(self.d_head)\n",
    "        return attention_weights\n",
    "\n",
    "\n",
    "class PointwiseFeedForwardNetwork:\n",
    "\n",
    "    def __init__(self, d_ff, d_model, dropout_prob):\n",
    "        self.feed_forward = Sequential([\n",
    "            Dense(d_ff, input_dim=d_model),\n",
    "            Dropout(rate=dropout_prob),\n",
    "            ReLU(),\n",
    "            Dense(d_model, input_dim=d_ff),\n",
    "            Dropout(rate=dropout_prob)\n",
    "        ])\n",
    "\n",
    "    def __call__(self, x):\n",
    "        \"\"\"\n",
    "\n",
    "        Args:\n",
    "            x: (batch_size, seq_len, d_model)\n",
    "        \"\"\"\n",
    "        return self.feed_forward(x)"
   ]
  },
  {
   "cell_type": "code",
   "execution_count": null,
   "metadata": {},
   "outputs": [],
   "source": [
    "def build_model(config):\n",
    "    if config['positional_encoding']:\n",
    "        source_embedding = PositionalEncoding(dim=config['d_model'])\n",
    "    else:\n",
    "        source_embedding = None\n",
    "                \n",
    "    encoder = TransformerEncoder(\n",
    "        layers_count=config['layers_count'],\n",
    "        d_model=config['d_model'],\n",
    "        heads_count=config['heads_count'],\n",
    "        d_ff=config['d_ff'],\n",
    "        dropout_prob=config['dropout_prob'],\n",
    "        positional_encoding=source_embedding\n",
    "    )\n",
    "\n",
    "    model = TransformerEmbedding(encoder)\n",
    "\n",
    "    return model\n",
    "\n",
    "config = {\n",
    "    'd_model': embed_size,\n",
    "    'layers_count': 3,\n",
    "    'heads_count': 2,\n",
    "    'd_ff': 256,\n",
    "    'dropout_prob': 0.5,\n",
    "    'positional_encoding': True\n",
    "}\n",
    "\n",
    "\n",
    "model = build_model(config)"
   ]
  },
  {
   "cell_type": "code",
   "execution_count": null,
   "metadata": {},
   "outputs": [],
   "source": [
    "def model_transformer(embedding_matrix):\n",
    "    \n",
    "    inp = Input(shape=(maxlen,))\n",
    "    x = Embedding(max_features, embed_size, weights=[embedding_matrix], trainable=False)(inp)\n",
    "    x = SpatialDropout1D(0.1)(x)\n",
    "    \n",
    "    config = {\n",
    "        'd_model': embed_size,\n",
    "        'layers_count': 3,\n",
    "        'heads_count': 2,\n",
    "        'd_ff': 256,\n",
    "        'dropout_prob': 0.5,\n",
    "        'positional_encoding': True\n",
    "    }\n",
    "    \n",
    "    transformer = build_model(config)\n",
    "    query = transformer(x, 70)\n",
    "    \n",
    "    sys.exit(0)\n",
    "    \n",
    "    outp = Dense(1, activation=\"sigmoid\")(dropout_hidden)\n",
    "\n",
    "    model = Model(inputs=inp, outputs=outp)\n",
    "    model.compile(loss='binary_crossentropy', optimizer='adam', metrics=[f1])\n",
    "    \n",
    "    return model"
   ]
  },
  {
   "cell_type": "code",
   "execution_count": null,
   "metadata": {},
   "outputs": [],
   "source": [
    "model = model_transformer(embedding_matrix)\n",
    "model.summary()"
   ]
  },
  {
   "cell_type": "code",
   "execution_count": null,
   "metadata": {},
   "outputs": [],
   "source": []
  },
  {
   "cell_type": "code",
   "execution_count": null,
   "metadata": {},
   "outputs": [],
   "source": []
  },
  {
   "cell_type": "code",
   "execution_count": null,
   "metadata": {},
   "outputs": [],
   "source": []
  },
  {
   "cell_type": "code",
   "execution_count": null,
   "metadata": {},
   "outputs": [],
   "source": []
  },
  {
   "cell_type": "markdown",
   "metadata": {
    "_uuid": "73d68544af4c48bf9ee37492ecd05feb0b494351"
   },
   "source": [
    "**CNN Model**"
   ]
  },
  {
   "cell_type": "code",
   "execution_count": 3,
   "metadata": {
    "_uuid": "1f72c8c9573fb840ceb50a9cd4ac4e455e1c0ea7"
   },
   "outputs": [],
   "source": [
    "# https://www.kaggle.com/yekenot/2dcnn-textclassifier\n",
    "def model_cnn(embedding_matrix):\n",
    "    filter_sizes = [1,2,3,5]\n",
    "    num_filters = 36\n",
    "\n",
    "    inp = Input(shape=(maxlen,))\n",
    "    x = Embedding(max_features, embed_size, weights=[embedding_matrix])(inp)\n",
    "    x = Reshape((maxlen, embed_size, 1))(x)\n",
    "\n",
    "    maxpool_pool = []\n",
    "    for i in range(len(filter_sizes)):\n",
    "        conv = Conv2D(num_filters, kernel_size=(filter_sizes[i], embed_size),\n",
    "                                     kernel_initializer='he_normal', activation='elu')(x)\n",
    "        maxpool_pool.append(MaxPool2D(pool_size=(maxlen - filter_sizes[i] + 1, 1))(conv))\n",
    "\n",
    "    z = Concatenate(axis=1)(maxpool_pool)   \n",
    "    z = Flatten()(z)\n",
    "    z = Dropout(0.1)(z)\n",
    "\n",
    "    outp = Dense(1, activation=\"sigmoid\")(z)\n",
    "\n",
    "    model = Model(inputs=inp, outputs=outp)\n",
    "    model.compile(loss='binary_crossentropy', optimizer='adam', metrics=['accuracy'])\n",
    "    \n",
    "    return model"
   ]
  },
  {
   "cell_type": "code",
   "execution_count": null,
   "metadata": {},
   "outputs": [],
   "source": []
  },
  {
   "cell_type": "markdown",
   "metadata": {
    "_uuid": "5a676c3a275514a3351edf306e02d832a5f39317"
   },
   "source": [
    "**Attention layer**"
   ]
  },
  {
   "cell_type": "code",
   "execution_count": null,
   "metadata": {
    "_uuid": "84e00df2c7b94205f5588af503f62412c48f46f3"
   },
   "outputs": [],
   "source": [
    "# https://www.kaggle.com/suicaokhoailang/lstm-attention-baseline-0-652-lb\n",
    "\n",
    "class Attention(Layer):\n",
    "    def __init__(self, step_dim,\n",
    "                 W_regularizer=None, b_regularizer=None,\n",
    "                 W_constraint=None, b_constraint=None,\n",
    "                 bias=True, **kwargs):\n",
    "        self.supports_masking = True\n",
    "        self.init = initializers.get('glorot_uniform')\n",
    "\n",
    "        self.W_regularizer = regularizers.get(W_regularizer)\n",
    "        self.b_regularizer = regularizers.get(b_regularizer)\n",
    "\n",
    "        self.W_constraint = constraints.get(W_constraint)\n",
    "        self.b_constraint = constraints.get(b_constraint)\n",
    "\n",
    "        self.bias = bias\n",
    "        self.step_dim = step_dim\n",
    "        self.features_dim = 0\n",
    "        super(Attention, self).__init__(**kwargs)\n",
    "\n",
    "    def build(self, input_shape):\n",
    "        assert len(input_shape) == 3\n",
    "\n",
    "        self.W = self.add_weight((input_shape[-1],),\n",
    "                                 initializer=self.init,\n",
    "                                 name='{}_W'.format(self.name),\n",
    "                                 regularizer=self.W_regularizer,\n",
    "                                 constraint=self.W_constraint)\n",
    "        self.features_dim = input_shape[-1]\n",
    "\n",
    "        if self.bias:\n",
    "            self.b = self.add_weight((input_shape[1],),\n",
    "                                     initializer='zero',\n",
    "                                     name='{}_b'.format(self.name),\n",
    "                                     regularizer=self.b_regularizer,\n",
    "                                     constraint=self.b_constraint)\n",
    "        else:\n",
    "            self.b = None\n",
    "\n",
    "        self.built = True\n",
    "\n",
    "    def compute_mask(self, input, input_mask=None):\n",
    "        return None\n",
    "\n",
    "    def call(self, x, mask=None):\n",
    "        features_dim = self.features_dim\n",
    "        step_dim = self.step_dim\n",
    "\n",
    "        eij = K.reshape(K.dot(K.reshape(x, (-1, features_dim)),\n",
    "                        K.reshape(self.W, (features_dim, 1))), (-1, step_dim))\n",
    "\n",
    "        if self.bias:\n",
    "            eij += self.b\n",
    "\n",
    "        eij = K.tanh(eij)\n",
    "\n",
    "        a = K.exp(eij)\n",
    "\n",
    "        if mask is not None:\n",
    "            a *= K.cast(mask, K.floatx())\n",
    "\n",
    "        a /= K.cast(K.sum(a, axis=1, keepdims=True) + K.epsilon(), K.floatx())\n",
    "\n",
    "        a = K.expand_dims(a)\n",
    "        weighted_input = x * a\n",
    "        return K.sum(weighted_input, axis=1)\n",
    "\n",
    "    def compute_output_shape(self, input_shape):\n",
    "        return input_shape[0],  self.features_dim"
   ]
  },
  {
   "cell_type": "markdown",
   "metadata": {
    "_uuid": "d96793d88c22274d985436e192f62970c227c324"
   },
   "source": [
    "**LSTM models**"
   ]
  },
  {
   "cell_type": "code",
   "execution_count": null,
   "metadata": {
    "_uuid": "05164d541a0c35cae727d0338548d156efe21427"
   },
   "outputs": [],
   "source": [
    "def model_lstm_atten(embedding_matrix):\n",
    "    inp = Input(shape=(maxlen,))\n",
    "    x = Embedding(max_features, embed_size, weights=[embedding_matrix], trainable=False)(inp)\n",
    "    x = Bidirectional(CuDNNLSTM(128, return_sequences=True))(x)\n",
    "    x = Bidirectional(CuDNNLSTM(64, return_sequences=True))(x)\n",
    "    x = Attention(maxlen)(x)\n",
    "    x = Dense(64, activation=\"relu\")(x)\n",
    "    x = Dense(1, activation=\"sigmoid\")(x)\n",
    "    model = Model(inputs=inp, outputs=x)\n",
    "    model.compile(loss='binary_crossentropy', optimizer='adam', metrics=['accuracy'])\n",
    "    \n",
    "    return model"
   ]
  },
  {
   "cell_type": "code",
   "execution_count": null,
   "metadata": {
    "_uuid": "2bf953e2b5b6d9363eda89971ecc0ac416e2ddd0"
   },
   "outputs": [],
   "source": [
    "def model_gru_srk_atten(embedding_matrix):\n",
    "    inp = Input(shape=(maxlen,))\n",
    "    x = Embedding(max_features, embed_size, weights=[embedding_matrix])(inp)\n",
    "    x = Bidirectional(CuDNNGRU(64, return_sequences=True))(x)\n",
    "    x = Attention(maxlen)(x) # New\n",
    "    x = Dense(16, activation=\"relu\")(x)\n",
    "    x = Dropout(0.1)(x)\n",
    "    x = Dense(1, activation=\"sigmoid\")(x)\n",
    "    model = Model(inputs=inp, outputs=x)\n",
    "    model.compile(loss='binary_crossentropy', optimizer='adam', metrics=['accuracy'])\n",
    "    \n",
    "    return model    \n",
    "    "
   ]
  },
  {
   "cell_type": "code",
   "execution_count": null,
   "metadata": {
    "_uuid": "17b13ef39fbbf1919307c23efd516eddc2135023"
   },
   "outputs": [],
   "source": [
    "def model_lstm_du(embedding_matrix):\n",
    "    inp = Input(shape=(maxlen,))\n",
    "    x = Embedding(max_features, embed_size, weights=[embedding_matrix])(inp)\n",
    "    x = Bidirectional(CuDNNGRU(64, return_sequences=True))(x)\n",
    "    avg_pool = GlobalAveragePooling1D()(x)\n",
    "    max_pool = GlobalMaxPooling1D()(x)\n",
    "    conc = concatenate([avg_pool, max_pool])\n",
    "    conc = Dense(64, activation=\"relu\")(conc)\n",
    "    conc = Dropout(0.1)(conc)\n",
    "    outp = Dense(1, activation=\"sigmoid\")(conc)\n",
    "    \n",
    "    model = Model(inputs=inp, outputs=outp)\n",
    "    model.compile(loss='binary_crossentropy', optimizer='adam', metrics=['accuracy'])\n",
    "    return model"
   ]
  },
  {
   "cell_type": "code",
   "execution_count": null,
   "metadata": {
    "_uuid": "c02ace553c962a10f038d21801c8b46f567a0c3f"
   },
   "outputs": [],
   "source": [
    "def model_gru_atten_3(embedding_matrix):\n",
    "    inp = Input(shape=(maxlen,))\n",
    "    x = Embedding(max_features, embed_size, weights=[embedding_matrix], trainable=False)(inp)\n",
    "    x = Bidirectional(CuDNNGRU(128, return_sequences=True))(x)\n",
    "    x = Bidirectional(CuDNNGRU(100, return_sequences=True))(x)\n",
    "    x = Bidirectional(CuDNNGRU(64, return_sequences=True))(x)\n",
    "    x = Attention(maxlen)(x)\n",
    "    x = Dense(1, activation=\"sigmoid\")(x)\n",
    "    model = Model(inputs=inp, outputs=x)\n",
    "    model.compile(loss='binary_crossentropy', optimizer='adam', metrics=['accuracy'])\n",
    "    \n",
    "    return model"
   ]
  },
  {
   "cell_type": "markdown",
   "metadata": {
    "_uuid": "a8c857424e9c9f1703a71c1c0ade28713314dd29"
   },
   "source": [
    "**Train and predict**"
   ]
  },
  {
   "cell_type": "code",
   "execution_count": null,
   "metadata": {
    "_uuid": "e8523d876b6eae762e673b777cc7af4d7f085792"
   },
   "outputs": [],
   "source": [
    "# https://www.kaggle.com/strideradu/word2vec-and-gensim-go-go-go\n",
    "def train_pred(model, epochs=2):\n",
    "    for e in range(epochs):\n",
    "        model.fit(train_X, train_y, batch_size=512, epochs=1, validation_data=(val_X, val_y))\n",
    "        pred_val_y = model.predict([val_X], batch_size=1024, verbose=0)\n",
    "    pred_test_y = model.predict([test_X], batch_size=1024, verbose=0)\n",
    "    return pred_val_y, pred_test_y"
   ]
  },
  {
   "cell_type": "markdown",
   "metadata": {
    "_uuid": "f79081928ca032fbfe3b90c6d3ce91cf57d443d8"
   },
   "source": [
    "**Main part: load, train, pred and blend**"
   ]
  },
  {
   "cell_type": "code",
   "execution_count": null,
   "metadata": {
    "_uuid": "99d03d2eb63600f1b222522616eab3fa35819f37"
   },
   "outputs": [],
   "source": [
    "train_X, val_X, test_X, train_y, val_y, word_index = load_and_prec()\n",
    "vocab = []\n",
    "for w,k in word_index.items():\n",
    "    vocab.append(w)\n",
    "    if k >= max_features:\n",
    "        break\n",
    "embedding_matrix_1 = load_glove(word_index)\n",
    "# embedding_matrix_2 = load_fasttext(word_index)\n",
    "embedding_matrix_3 = load_para(word_index)"
   ]
  },
  {
   "cell_type": "code",
   "execution_count": null,
   "metadata": {
    "_uuid": "f0ea9b1468bd7cd3ceead2593c641900dc3a2a77"
   },
   "outputs": [],
   "source": [
    "## Simple average: http://aclweb.org/anthology/N18-2031\n",
    "\n",
    "# We have presented an argument for averaging as\n",
    "# a valid meta-embedding technique, and found experimental\n",
    "# performance to be close to, or in some cases \n",
    "# better than that of concatenation, with the\n",
    "# additional benefit of reduced dimensionality  \n",
    "\n",
    "\n",
    "## Unweighted DME in https://arxiv.org/pdf/1804.07983.pdf\n",
    "\n",
    "# “The downside of concatenating embeddings and \n",
    "#  giving that as input to an RNN encoder, however,\n",
    "#  is that the network then quickly becomes inefficient\n",
    "#  as we combine more and more embeddings.”\n",
    "  \n",
    "# embedding_matrix = np.mean([embedding_matrix_1, embedding_matrix_2, embedding_matrix_3], axis = 0)\n",
    "embedding_matrix = np.mean([embedding_matrix_1, embedding_matrix_3], axis = 0)\n",
    "np.shape(embedding_matrix)"
   ]
  },
  {
   "cell_type": "code",
   "execution_count": null,
   "metadata": {
    "_uuid": "da641bf6a7e0a40863e571c78eba9285fd8671b0"
   },
   "outputs": [],
   "source": [
    "outputs = []"
   ]
  },
  {
   "cell_type": "code",
   "execution_count": null,
   "metadata": {
    "_uuid": "8b0ce7a68d32a893affb0f3e57e0d1517776e1b1"
   },
   "outputs": [],
   "source": [
    "pred_val_y, pred_test_y = train_pred(model_gru_atten_3(embedding_matrix), epochs = 3)\n",
    "outputs.append([pred_val_y, pred_test_y, '3 GRU w/ atten'])"
   ]
  },
  {
   "cell_type": "code",
   "execution_count": null,
   "metadata": {
    "_uuid": "7aae47c7ded0b4f4849fe68b8c2f282ea03e1d20"
   },
   "outputs": [],
   "source": [
    "pred_val_y, pred_test_y = train_pred(model_gru_srk_atten(embedding_matrix), epochs = 2)\n",
    "outputs.append([pred_val_y, pred_test_y, 'gru atten srk'])"
   ]
  },
  {
   "cell_type": "code",
   "execution_count": null,
   "metadata": {
    "_uuid": "40ec64ad93aea2eb4d303fb7c1e9fc58590885dc"
   },
   "outputs": [],
   "source": [
    "# pred_val_y, pred_test_y = train_pred(model_cnn(embedding_matrix), epochs = 2)\n",
    "# outputs.append([pred_val_y, pred_test_y, '2d CNN'])"
   ]
  },
  {
   "cell_type": "code",
   "execution_count": null,
   "metadata": {
    "_uuid": "2d5802cdc286219cbddd4caa9851d08cdf39ebf6"
   },
   "outputs": [],
   "source": [
    "pred_val_y, pred_test_y = train_pred(model_cnn(embedding_matrix_1), epochs = 2) # GloVe only\n",
    "outputs.append([pred_val_y, pred_test_y, '2d CNN GloVe'])"
   ]
  },
  {
   "cell_type": "code",
   "execution_count": null,
   "metadata": {
    "_uuid": "2ce89a82185e091178a3878fb87deddba8e7a381"
   },
   "outputs": [],
   "source": [
    "pred_val_y, pred_test_y = train_pred(model_lstm_du(embedding_matrix), epochs = 2)\n",
    "outputs.append([pred_val_y, pred_test_y, 'LSTM DU'])"
   ]
  },
  {
   "cell_type": "code",
   "execution_count": null,
   "metadata": {
    "_uuid": "57af85779fca0bfebc26813de4f4d07137e68510"
   },
   "outputs": [],
   "source": [
    "pred_val_y, pred_test_y = train_pred(model_lstm_atten(embedding_matrix), epochs = 3)\n",
    "outputs.append([pred_val_y, pred_test_y, '2 LSTM w/ attention'])"
   ]
  },
  {
   "cell_type": "code",
   "execution_count": null,
   "metadata": {
    "_uuid": "d7865acc1dfd4074ad9736f0563c7a53eab2bdfc"
   },
   "outputs": [],
   "source": [
    "pred_val_y, pred_test_y = train_pred(model_lstm_atten(embedding_matrix_1), epochs = 3) # Only GloVe\n",
    "outputs.append([pred_val_y, pred_test_y, '2 LSTM w/ attention GloVe'])"
   ]
  },
  {
   "cell_type": "code",
   "execution_count": null,
   "metadata": {
    "_uuid": "6d0d468740e54fa4ae52262a54179e58b64ef7da"
   },
   "outputs": [],
   "source": [
    "pred_val_y, pred_test_y = train_pred(model_lstm_atten(embedding_matrix_3), epochs = 3) # Only Para\n",
    "outputs.append([pred_val_y, pred_test_y, '2 LSTM w/ attention Para'])"
   ]
  },
  {
   "cell_type": "code",
   "execution_count": null,
   "metadata": {
    "_uuid": "74a84952d3a6a2b265dcd72a1ba8f41e315df332"
   },
   "outputs": [],
   "source": [
    "# pred_test_y = np.sum([outputs[i][1] * weights[i] for i in range(len(outputs))], axis = 0)\n",
    "coefs = [0.20076554,0.07993707,0.11611663,0.14885248,0.15734404,0.17454667,0.14288361]\n",
    "# pred_test_y = np.mean([outputs[i][1] for i in range(len(outputs))], axis = 0)\n",
    "pred_test_y = np.sum([outputs[i][1]*coefs[i] for i in range(len(coefs))], axis = 0)\n",
    "\n",
    "pred_test_y = (pred_test_y > 0.34).astype(int)\n",
    "test_df = pd.read_csv(\"../input/test.csv\", usecols=[\"qid\"])\n",
    "out_df = pd.DataFrame({\"qid\":test_df[\"qid\"].values})\n",
    "out_df['prediction'] = pred_test_y\n",
    "out_df.to_csv(\"submission.csv\", index=False)"
   ]
  },
  {
   "cell_type": "code",
   "execution_count": null,
   "metadata": {
    "_uuid": "af44b57ac7afcc8552dd0de65dcecb26538cfc2b"
   },
   "outputs": [],
   "source": []
  }
 ],
 "metadata": {
  "kernelspec": {
   "display_name": "Python 3",
   "language": "python",
   "name": "python3"
  },
  "language_info": {
   "codemirror_mode": {
    "name": "ipython",
    "version": 3
   },
   "file_extension": ".py",
   "mimetype": "text/x-python",
   "name": "python",
   "nbconvert_exporter": "python",
   "pygments_lexer": "ipython3",
   "version": "3.6.4"
  }
 },
 "nbformat": 4,
 "nbformat_minor": 1
}
